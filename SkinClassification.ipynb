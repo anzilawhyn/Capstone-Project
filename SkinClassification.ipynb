{
  "metadata": {
    "kernelspec": {
      "language": "python",
      "display_name": "Python 3",
      "name": "python3"
    },
    "language_info": {
      "name": "python",
      "version": "3.7.12",
      "mimetype": "text/x-python",
      "codemirror_mode": {
        "name": "ipython",
        "version": 3
      },
      "pygments_lexer": "ipython3",
      "nbconvert_exporter": "python",
      "file_extension": ".py"
    },
    "kaggle": {
      "accelerator": "nvidiaTeslaT4",
      "dataSources": [
        {
          "sourceId": 8583434,
          "sourceType": "datasetVersion",
          "datasetId": 5133455
        }
      ],
      "dockerImageVersionId": 30370,
      "isInternetEnabled": true,
      "language": "python",
      "sourceType": "notebook",
      "isGpuEnabled": true
    },
    "colab": {
      "name": "Transfer Learning | SkinClassification ",
      "provenance": []
    }
  },
  "nbformat_minor": 0,
  "nbformat": 4,
  "cells": [
    {
      "source": [
        "\n",
        "# IMPORTANT: RUN THIS CELL IN ORDER TO IMPORT YOUR KAGGLE DATA SOURCES\n",
        "# TO THE CORRECT LOCATION (/kaggle/input) IN YOUR NOTEBOOK,\n",
        "# THEN FEEL FREE TO DELETE THIS CELL.\n",
        "# NOTE: THIS NOTEBOOK ENVIRONMENT DIFFERS FROM KAGGLE'S PYTHON\n",
        "# ENVIRONMENT SO THERE MAY BE MISSING LIBRARIES USED BY YOUR\n",
        "# NOTEBOOK.\n",
        "\n",
        "import os\n",
        "import sys\n",
        "from tempfile import NamedTemporaryFile\n",
        "from urllib.request import urlopen\n",
        "from urllib.parse import unquote, urlparse\n",
        "from urllib.error import HTTPError\n",
        "from zipfile import ZipFile\n",
        "import tarfile\n",
        "import shutil\n",
        "\n",
        "CHUNK_SIZE = 40960\n",
        "DATA_SOURCE_MAPPING = 'penyakit:https%3A%2F%2Fstorage.googleapis.com%2Fkaggle-data-sets%2F5133455%2F8583434%2Fbundle%2Farchive.zip%3FX-Goog-Algorithm%3DGOOG4-RSA-SHA256%26X-Goog-Credential%3Dgcp-kaggle-com%2540kaggle-161607.iam.gserviceaccount.com%252F20240602%252Fauto%252Fstorage%252Fgoog4_request%26X-Goog-Date%3D20240602T133840Z%26X-Goog-Expires%3D259200%26X-Goog-SignedHeaders%3Dhost%26X-Goog-Signature%3D3aa901dde5d5b07c6a0d556885bfbe9e15cf571daaedf187d6822dbd5c66182a74eea4b71047e489b30a7ae106031a5d6b87e66aabfb13404aaef69c6cc57a96e294913c2fd6880ff40207f1c3709360756eb984a9867a72a39aa763d38493c1195a3d1d90527782ff9845e722ca00ccc0b9ebf85bbddb08a28c9cc69e6e683813fd68a838ff3b80037a26d34e8e54e6e97b58bce6614d123663ed57f8e419a8b245cc5890185640967b3bd4951f09c97dafafae1ad6dba3db3b343c2f37708cd91f437afa01b8a20496f70250455c89b76e8bce7d942e9c2a8728ed24f9618e1359bee73f1b6b10f0e8d88c1d9a89799b4748d4cbba2683fd1dcef97543745f'\n",
        "\n",
        "KAGGLE_INPUT_PATH='/kaggle/input'\n",
        "KAGGLE_WORKING_PATH='/kaggle/working'\n",
        "KAGGLE_SYMLINK='kaggle'\n",
        "\n",
        "!umount /kaggle/input/ 2> /dev/null\n",
        "shutil.rmtree('/kaggle/input', ignore_errors=True)\n",
        "os.makedirs(KAGGLE_INPUT_PATH, 0o777, exist_ok=True)\n",
        "os.makedirs(KAGGLE_WORKING_PATH, 0o777, exist_ok=True)\n",
        "\n",
        "try:\n",
        "  os.symlink(KAGGLE_INPUT_PATH, os.path.join(\"..\", 'input'), target_is_directory=True)\n",
        "except FileExistsError:\n",
        "  pass\n",
        "try:\n",
        "  os.symlink(KAGGLE_WORKING_PATH, os.path.join(\"..\", 'working'), target_is_directory=True)\n",
        "except FileExistsError:\n",
        "  pass\n",
        "\n",
        "for data_source_mapping in DATA_SOURCE_MAPPING.split(','):\n",
        "    directory, download_url_encoded = data_source_mapping.split(':')\n",
        "    download_url = unquote(download_url_encoded)\n",
        "    filename = urlparse(download_url).path\n",
        "    destination_path = os.path.join(KAGGLE_INPUT_PATH, directory)\n",
        "    try:\n",
        "        with urlopen(download_url) as fileres, NamedTemporaryFile() as tfile:\n",
        "            total_length = fileres.headers['content-length']\n",
        "            print(f'Downloading {directory}, {total_length} bytes compressed')\n",
        "            dl = 0\n",
        "            data = fileres.read(CHUNK_SIZE)\n",
        "            while len(data) > 0:\n",
        "                dl += len(data)\n",
        "                tfile.write(data)\n",
        "                done = int(50 * dl / int(total_length))\n",
        "                sys.stdout.write(f\"\\r[{'=' * done}{' ' * (50-done)}] {dl} bytes downloaded\")\n",
        "                sys.stdout.flush()\n",
        "                data = fileres.read(CHUNK_SIZE)\n",
        "            if filename.endswith('.zip'):\n",
        "              with ZipFile(tfile) as zfile:\n",
        "                zfile.extractall(destination_path)\n",
        "            else:\n",
        "              with tarfile.open(tfile.name) as tarfile:\n",
        "                tarfile.extractall(destination_path)\n",
        "            print(f'\\nDownloaded and uncompressed: {directory}')\n",
        "    except HTTPError as e:\n",
        "        print(f'Failed to load (likely expired) {download_url} to path {destination_path}')\n",
        "        continue\n",
        "    except OSError as e:\n",
        "        print(f'Failed to load {download_url} to path {destination_path}')\n",
        "        continue\n",
        "\n",
        "print('Data source import complete.')\n"
      ],
      "metadata": {
        "id": "8nvld7QuLGnZ"
      },
      "cell_type": "code",
      "outputs": [],
      "execution_count": null
    },
    {
      "cell_type": "markdown",
      "source": [],
      "metadata": {
        "id": "2UMnmG4WLGnh"
      }
    },
    {
      "cell_type": "code",
      "source": [
        "import random\n",
        "import os\n",
        "import glob\n",
        "import time\n",
        "\n",
        "import pandas as pd\n",
        "import numpy as np\n",
        "import matplotlib.pyplot as plt\n",
        "import seaborn as sns\n",
        "\n",
        "import tensorflow as tf\n",
        "import tensorflow_hub as hub\n",
        "from tensorflow.keras import layers, Sequential\n",
        "from tensorflow.keras.utils import plot_model\n",
        "\n",
        "from sklearn.model_selection import train_test_split\n",
        "from sklearn.metrics import classification_report, precision_recall_fscore_support\n",
        "from sklearn.metrics import accuracy_score, f1_score, matthews_corrcoef\n",
        "from sklearn.metrics import confusion_matrix, ConfusionMatrixDisplay\n",
        "from scikitplot.metrics import plot_roc"
      ],
      "metadata": {
        "execution": {
          "iopub.status.busy": "2024-06-02T11:11:58.080133Z",
          "iopub.execute_input": "2024-06-02T11:11:58.080613Z",
          "iopub.status.idle": "2024-06-02T11:12:04.045904Z",
          "shell.execute_reply.started": "2024-06-02T11:11:58.080523Z",
          "shell.execute_reply": "2024-06-02T11:12:04.044866Z"
        },
        "trusted": true,
        "id": "qveGza7ALGnk"
      },
      "execution_count": null,
      "outputs": []
    },
    {
      "cell_type": "code",
      "source": [
        "class CFG:\n",
        "    EPOCHS = 10\n",
        "    BATCH_SIZE = 32\n",
        "    SEED = 42\n",
        "    TF_SEED = 768\n",
        "    HEIGHT = 224\n",
        "    WIDTH = 224\n",
        "    CHANNELS = 3\n",
        "    IMAGE_SIZE = (224, 224, 3)"
      ],
      "metadata": {
        "execution": {
          "iopub.status.busy": "2024-06-02T11:12:04.047575Z",
          "iopub.execute_input": "2024-06-02T11:12:04.048079Z",
          "iopub.status.idle": "2024-06-02T11:12:04.053398Z",
          "shell.execute_reply.started": "2024-06-02T11:12:04.048051Z",
          "shell.execute_reply": "2024-06-02T11:12:04.052245Z"
        },
        "trusted": true,
        "id": "9ZcKYPyBLGnm"
      },
      "execution_count": null,
      "outputs": []
    },
    {
      "cell_type": "markdown",
      "source": [
        "<a id='1'></a>\n",
        "# 1 **|** Inspecting The Dataset\n",
        "<div style=\"padding: 4px;color:white;margin:10;font-size:200%;text-align:center;display:fill;border-radius:10px;overflow:hidden;background-image: url(https://i.postimg.cc/KYdyWW8F/27525.jpg); background-size: 100% auto;\"></div>"
      ],
      "metadata": {
        "id": "CWNBgB9KLGnn"
      }
    },
    {
      "cell_type": "code",
      "source": [
        "# Define paths\n",
        "DATASET_PATH = \"/kaggle/input/penyakit/\"\n",
        "TRAIN_PATH = '/kaggle/input/penyakit/train/'\n",
        "TEST_PATH = '/kaggle/input/penyakit/test/'"
      ],
      "metadata": {
        "execution": {
          "iopub.status.busy": "2024-06-02T11:12:04.054644Z",
          "iopub.execute_input": "2024-06-02T11:12:04.054907Z",
          "iopub.status.idle": "2024-06-02T11:12:04.077748Z",
          "shell.execute_reply.started": "2024-06-02T11:12:04.054883Z",
          "shell.execute_reply": "2024-06-02T11:12:04.076883Z"
        },
        "trusted": true,
        "id": "XG0DEA22LGno"
      },
      "execution_count": null,
      "outputs": []
    },
    {
      "cell_type": "code",
      "source": [
        "# Generate a summary of the dataset\n",
        "print('DATASET SUMMARY')\n",
        "print('========================\\n')\n",
        "for dirpath, dirnames, filenames in os.walk(DATASET_PATH):\n",
        "    print(f\"There are {len(dirnames)} directories and {len(filenames)} images in {dirpath}\")\n",
        "print('\\n========================')"
      ],
      "metadata": {
        "execution": {
          "iopub.status.busy": "2024-06-02T11:12:04.080168Z",
          "iopub.execute_input": "2024-06-02T11:12:04.080519Z",
          "iopub.status.idle": "2024-06-02T11:12:05.910126Z",
          "shell.execute_reply.started": "2024-06-02T11:12:04.080485Z",
          "shell.execute_reply": "2024-06-02T11:12:05.909137Z"
        },
        "trusted": true,
        "id": "lcQnSdesLGno"
      },
      "execution_count": null,
      "outputs": []
    },
    {
      "cell_type": "markdown",
      "source": [
        "<a id='1.1'></a>\n",
        "### <font color='#478bd6'>Get image paths with glob</font>"
      ],
      "metadata": {
        "id": "ziTVqDYmLGnp"
      }
    },
    {
      "cell_type": "code",
      "source": [
        "%%time\n",
        "train_images = glob.glob(f\"{TRAIN_PATH}**/*.jpg\")\n",
        "test_images = glob.glob(f\"{TEST_PATH}**/*.jpg\")"
      ],
      "metadata": {
        "execution": {
          "iopub.status.busy": "2024-06-02T11:12:05.911318Z",
          "iopub.execute_input": "2024-06-02T11:12:05.9117Z",
          "iopub.status.idle": "2024-06-02T11:12:05.932366Z",
          "shell.execute_reply.started": "2024-06-02T11:12:05.911654Z",
          "shell.execute_reply": "2024-06-02T11:12:05.931469Z"
        },
        "trusted": true,
        "id": "NL7n-RivLGnq"
      },
      "execution_count": null,
      "outputs": []
    },
    {
      "cell_type": "markdown",
      "source": [
        "<a id='1.2'></a>\n",
        "### <font color='#478bd6'>View the number of images present in the dataset</font>"
      ],
      "metadata": {
        "id": "CTeLCYjpLGnr"
      }
    },
    {
      "cell_type": "code",
      "source": [
        "# Get train & test set sizes\n",
        "train_size = len(train_images)\n",
        "test_size = len(test_images)\n",
        "\n",
        "# Get dataset size\n",
        "total = train_size + test_size\n",
        "\n",
        "# View samples counts\n",
        "print(f'train samples count:\\t\\t{train_size}')\n",
        "print(f'test samples count:\\t\\t{test_size}')\n",
        "print('=======================================')\n",
        "print(f'TOTAL:\\t\\t\\t\\t{total}')"
      ],
      "metadata": {
        "execution": {
          "iopub.status.busy": "2024-06-02T11:12:05.933569Z",
          "iopub.execute_input": "2024-06-02T11:12:05.933922Z",
          "iopub.status.idle": "2024-06-02T11:12:05.940685Z",
          "shell.execute_reply.started": "2024-06-02T11:12:05.933885Z",
          "shell.execute_reply": "2024-06-02T11:12:05.939686Z"
        },
        "trusted": true,
        "id": "f-9MakN4LGns"
      },
      "execution_count": null,
      "outputs": []
    },
    {
      "cell_type": "markdown",
      "source": [
        "<a id='1.3'></a>\n",
        "### <font color='#478bd6'>Create Pandas DataFrames for paths and labels</font>"
      ],
      "metadata": {
        "id": "qMrdVM2ALGns"
      }
    },
    {
      "cell_type": "code",
      "source": [
        "def generate_labels(image_paths):\n",
        "    return [_.split('/')[-2:][0] for _ in image_paths]\n",
        "\n",
        "\n",
        "def build_df(image_paths, labels):\n",
        "    # Create dataframe\n",
        "    df = pd.DataFrame({\n",
        "        'image_path': image_paths,\n",
        "        'label': generate_labels(labels)\n",
        "    })\n",
        "\n",
        "    # Generate label encodings\n",
        "    df['label_encoded'] = df.apply(lambda row: 0 if row.label == 'normal' else 1, axis=1)\n",
        "\n",
        "    # Shuffle and return df\n",
        "    return df.sample(frac=1, random_state=CFG.SEED).reset_index(drop=True)"
      ],
      "metadata": {
        "execution": {
          "iopub.status.busy": "2024-06-02T11:12:05.941889Z",
          "iopub.execute_input": "2024-06-02T11:12:05.942249Z",
          "iopub.status.idle": "2024-06-02T11:12:05.950475Z",
          "shell.execute_reply.started": "2024-06-02T11:12:05.942211Z",
          "shell.execute_reply": "2024-06-02T11:12:05.949542Z"
        },
        "trusted": true,
        "id": "tCsZ9p4fLGnt"
      },
      "execution_count": null,
      "outputs": []
    },
    {
      "cell_type": "code",
      "source": [
        "# Build the DataFrames\n",
        "train_df = build_df(train_images, generate_labels(train_images))\n",
        "test_df = build_df(test_images, generate_labels(test_images))"
      ],
      "metadata": {
        "execution": {
          "iopub.status.busy": "2024-06-02T11:12:05.951812Z",
          "iopub.execute_input": "2024-06-02T11:12:05.952083Z",
          "iopub.status.idle": "2024-06-02T11:12:06.025958Z",
          "shell.execute_reply.started": "2024-06-02T11:12:05.952058Z",
          "shell.execute_reply": "2024-06-02T11:12:06.025048Z"
        },
        "trusted": true,
        "id": "GjuAwfRfLGnu"
      },
      "execution_count": null,
      "outputs": []
    },
    {
      "cell_type": "code",
      "source": [
        "# View first 5 samples in the training set\n",
        "train_df.head(5)"
      ],
      "metadata": {
        "execution": {
          "iopub.status.busy": "2024-06-02T11:12:06.027127Z",
          "iopub.execute_input": "2024-06-02T11:12:06.027506Z",
          "iopub.status.idle": "2024-06-02T11:12:06.042584Z",
          "shell.execute_reply.started": "2024-06-02T11:12:06.02747Z",
          "shell.execute_reply": "2024-06-02T11:12:06.041704Z"
        },
        "trusted": true,
        "id": "8BvVoicBLGnu"
      },
      "execution_count": null,
      "outputs": []
    },
    {
      "cell_type": "markdown",
      "source": [
        "<a id='1.4'></a>\n",
        "### <font color='#478bd6'>Load & View Random Sample Image</font>"
      ],
      "metadata": {
        "id": "Pey1SyevLGnv"
      }
    },
    {
      "cell_type": "code",
      "source": [
        "def _load(image_path):\n",
        "    # Read and decode an image file to a uint8 tensor\n",
        "    image = tf.io.read_file(image_path)\n",
        "    image = tf.io.decode_jpeg(image, channels=3)\n",
        "\n",
        "    # Resize image\n",
        "    image = tf.image.resize(image, [CFG.HEIGHT, CFG.WIDTH],\n",
        "                            method=tf.image.ResizeMethod.LANCZOS3)\n",
        "\n",
        "    # Convert image dtype to float32 and NORMALIZE!!!\n",
        "    image = tf.cast(image, tf.float32)/255.\n",
        "\n",
        "    # Return image\n",
        "    return image\n",
        "\n",
        "def view_sample(image, label, color_map='rgb', fig_size=(8, 10)):\n",
        "    plt.figure(figsize=fig_size)\n",
        "\n",
        "    if color_map=='rgb':\n",
        "        plt.imshow(image)\n",
        "    else:\n",
        "        plt.imshow(tf.image.rgb_to_grayscale(image), cmap=color_map)\n",
        "\n",
        "    plt.title(f'Label: {label}', fontsize=16)\n",
        "    return"
      ],
      "metadata": {
        "execution": {
          "iopub.status.busy": "2024-06-02T11:12:06.046805Z",
          "iopub.execute_input": "2024-06-02T11:12:06.047053Z",
          "iopub.status.idle": "2024-06-02T11:12:06.054811Z",
          "shell.execute_reply.started": "2024-06-02T11:12:06.04703Z",
          "shell.execute_reply": "2024-06-02T11:12:06.053899Z"
        },
        "trusted": true,
        "id": "C913LLINLGnv"
      },
      "execution_count": null,
      "outputs": []
    },
    {
      "cell_type": "code",
      "source": [
        "# Select random sample from train_df\n",
        "idx = random.sample(train_df.index.to_list(), 1)[0]\n",
        "\n",
        "# Load the random sample and label\n",
        "sample_image, sample_label = _load(train_df.image_path[idx]), train_df.label[idx]\n",
        "\n",
        "# View the random sample\n",
        "view_sample(sample_image, sample_label, color_map='inferno')"
      ],
      "metadata": {
        "execution": {
          "iopub.status.busy": "2024-06-02T11:12:06.055824Z",
          "iopub.execute_input": "2024-06-02T11:12:06.056096Z",
          "iopub.status.idle": "2024-06-02T11:12:10.771748Z",
          "shell.execute_reply.started": "2024-06-02T11:12:06.056072Z",
          "shell.execute_reply": "2024-06-02T11:12:10.770778Z"
        },
        "trusted": true,
        "id": "mqTNWJSWLGnv"
      },
      "execution_count": null,
      "outputs": []
    },
    {
      "cell_type": "markdown",
      "source": [
        "<a id='1.5'></a>\n",
        "### <font color='#478bd6'>View multiple random samples</font>"
      ],
      "metadata": {
        "id": "qQYAYBLuLGnw"
      }
    },
    {
      "cell_type": "code",
      "source": [
        "def view_mulitiple_samples(df, sample_loader, count=10, color_map='rgb', fig_size=(14, 10)):\n",
        "    rows = count//5\n",
        "    if count%5 > 0:\n",
        "        rows +=1\n",
        "\n",
        "    idx = random.sample(df.index.to_list(), count)\n",
        "    fig = plt.figure(figsize=fig_size)\n",
        "\n",
        "    for column, _ in enumerate(idx):\n",
        "        plt.subplot(rows, 5, column+1)\n",
        "        plt.title(f'Label: {df.label[_]}')\n",
        "\n",
        "        if color_map=='rgb':\n",
        "            plt.imshow(sample_loader(df.image_path[_]))\n",
        "        else:\n",
        "            plt.imshow(tf.image.rgb_to_grayscale(sample_loader(df.image_path[_])), cmap=color_map)\n",
        "\n",
        "    return\n",
        "\n",
        "view_mulitiple_samples(train_df, _load,\n",
        "                       count=25, color_map='inferno',\n",
        "                       fig_size=(20, 24))"
      ],
      "metadata": {
        "execution": {
          "iopub.status.busy": "2024-06-02T11:12:10.772927Z",
          "iopub.execute_input": "2024-06-02T11:12:10.773247Z",
          "iopub.status.idle": "2024-06-02T11:12:14.456912Z",
          "shell.execute_reply.started": "2024-06-02T11:12:10.773188Z",
          "shell.execute_reply": "2024-06-02T11:12:14.455957Z"
        },
        "trusted": true,
        "id": "1krftzNcLGnw"
      },
      "execution_count": null,
      "outputs": []
    },
    {
      "cell_type": "markdown",
      "source": [
        "<a id='1.6'></a>\n",
        "### <font color='#478bd6'>View Train Labels Distribution</font>"
      ],
      "metadata": {
        "id": "1-PyKyKJLGnw"
      }
    },
    {
      "cell_type": "code",
      "source": [
        "fig, (ax1, ax2) = plt.subplots(2, figsize=(14, 10))\n",
        "\n",
        "# Set the spacing between subplots\n",
        "fig.tight_layout(pad=6.0)\n",
        "\n",
        "# Plot Train Labels Distribution\n",
        "ax1.set_title('Train Labels Distribution', fontsize=20)\n",
        "train_distribution = train_df['label'].value_counts().sort_values()\n",
        "sns.barplot(x=train_distribution.values,\n",
        "            y=list(train_distribution.keys()),\n",
        "            orient=\"h\",\n",
        "            ax=ax1)\n",
        "\n",
        "# Plot Test Labels Distribution\n",
        "ax2.set_title('Test Labels Distribution', fontsize=20)\n",
        "test_distribution = test_df['label'].value_counts().sort_values()\n",
        "sns.barplot(x=test_distribution.values,\n",
        "            y=list(test_distribution.keys()),\n",
        "            orient=\"h\",\n",
        "            ax=ax2);\n",
        "\n",
        "sns.despine();"
      ],
      "metadata": {
        "execution": {
          "iopub.status.busy": "2024-06-02T11:12:14.458348Z",
          "iopub.execute_input": "2024-06-02T11:12:14.458692Z",
          "iopub.status.idle": "2024-06-02T11:12:14.725803Z",
          "shell.execute_reply.started": "2024-06-02T11:12:14.458662Z",
          "shell.execute_reply": "2024-06-02T11:12:14.724907Z"
        },
        "trusted": true,
        "id": "cn6-A7Y4LGnw"
      },
      "execution_count": null,
      "outputs": []
    },
    {
      "cell_type": "markdown",
      "source": [
        "<div class=\"alert alert-block alert-info\">\n",
        "    <h3>Observe</h3>\n",
        "    We see that both the training and test sets are fairly balanced. However, we'll need to create a validation set for hyperparameter tuning.\n",
        "</div>"
      ],
      "metadata": {
        "id": "fZ5PmGovLGnx"
      }
    },
    {
      "cell_type": "markdown",
      "source": [],
      "metadata": {
        "id": "ZoXBybKMLGnx"
      }
    },
    {
      "cell_type": "markdown",
      "source": [
        "<a id='2.1'></a>\n",
        "### <font color='#478bd6'>Create Train & Validation Splits</font>"
      ],
      "metadata": {
        "id": "DWBWxVdZLGnx"
      }
    },
    {
      "cell_type": "code",
      "source": [
        "# Create Train/Val split with Training Set\n",
        "train_split_idx, val_split_idx, _, _ = train_test_split(train_df.index,\n",
        "                                                        train_df.label_encoded,\n",
        "                                                        test_size=0.15,\n",
        "                                                        stratify=train_df.label_encoded,\n",
        "                                                        random_state=CFG.SEED)"
      ],
      "metadata": {
        "execution": {
          "iopub.status.busy": "2024-06-02T11:12:14.727224Z",
          "iopub.execute_input": "2024-06-02T11:12:14.728015Z",
          "iopub.status.idle": "2024-06-02T11:12:14.737116Z",
          "shell.execute_reply.started": "2024-06-02T11:12:14.727975Z",
          "shell.execute_reply": "2024-06-02T11:12:14.736122Z"
        },
        "trusted": true,
        "id": "EBz9JhL1LGnx"
      },
      "execution_count": null,
      "outputs": []
    },
    {
      "cell_type": "code",
      "source": [
        "# Get new training and validation data\n",
        "train_new_df = train_df.iloc[train_split_idx].reset_index(drop=True)\n",
        "val_df = train_df.iloc[val_split_idx].reset_index(drop=True)\n",
        "\n",
        "# View shapes\n",
        "train_new_df.shape, val_df.shape"
      ],
      "metadata": {
        "execution": {
          "iopub.status.busy": "2024-06-02T11:12:14.738403Z",
          "iopub.execute_input": "2024-06-02T11:12:14.73875Z",
          "iopub.status.idle": "2024-06-02T11:12:14.74799Z",
          "shell.execute_reply.started": "2024-06-02T11:12:14.738721Z",
          "shell.execute_reply": "2024-06-02T11:12:14.747063Z"
        },
        "trusted": true,
        "id": "d-1gLlj7LGnx"
      },
      "execution_count": null,
      "outputs": []
    },
    {
      "cell_type": "markdown",
      "source": [
        "<a id='2.2'></a>\n",
        "### <font color='#478bd6'>View New Train & Validation Labels Distribution</font>"
      ],
      "metadata": {
        "id": "rFo38gNnLGny"
      }
    },
    {
      "cell_type": "code",
      "source": [
        "fig, (ax1, ax2) = plt.subplots(2, figsize=(14, 10))\n",
        "\n",
        "# Set the spacing between subplots\n",
        "fig.tight_layout(pad=6.0)\n",
        "\n",
        "# Plot New Train Labels Distribution\n",
        "ax1.set_title('New Train Labels Distribution', fontsize=20)\n",
        "train_new_distribution = train_new_df['label'].value_counts().sort_values()\n",
        "sns.barplot(x=train_new_distribution.values,\n",
        "            y=list(train_new_distribution.keys()),\n",
        "            orient=\"h\",\n",
        "            ax=ax1)\n",
        "\n",
        "# Plot Validation Labels Distribution\n",
        "ax2.set_title('Validation Labels Distribution', fontsize=20)\n",
        "val_distribution = val_df['label'].value_counts().sort_values()\n",
        "sns.barplot(x=val_distribution.values,\n",
        "            y=list(val_distribution.keys()),\n",
        "            orient=\"h\",\n",
        "            ax=ax2);\n",
        "\n",
        "sns.despine();"
      ],
      "metadata": {
        "execution": {
          "iopub.status.busy": "2024-06-02T11:12:14.749339Z",
          "iopub.execute_input": "2024-06-02T11:12:14.749698Z",
          "iopub.status.idle": "2024-06-02T11:12:15.099397Z",
          "shell.execute_reply.started": "2024-06-02T11:12:14.749663Z",
          "shell.execute_reply": "2024-06-02T11:12:15.098449Z"
        },
        "trusted": true,
        "id": "c5vzjzsSLGny"
      },
      "execution_count": null,
      "outputs": []
    },
    {
      "cell_type": "markdown",
      "source": [
        "<a id='2.3'></a>\n",
        "### <font color='#478bd6'>Create an Image Data Augmentation Layer</font>"
      ],
      "metadata": {
        "id": "vsvexZDuLGny"
      }
    },
    {
      "cell_type": "code",
      "source": [
        "# Build augmentation layer\n",
        "augmentation_layer = Sequential([\n",
        "    layers.RandomFlip(mode='horizontal_and_vertical', seed=CFG.TF_SEED),\n",
        "    layers.RandomZoom(height_factor=(-0.1, 0.1), width_factor=(-0.1, 0.1), seed=CFG.TF_SEED),\n",
        "], name='augmentation_layer')"
      ],
      "metadata": {
        "execution": {
          "iopub.status.busy": "2024-06-02T11:12:15.100448Z",
          "iopub.execute_input": "2024-06-02T11:12:15.10073Z",
          "iopub.status.idle": "2024-06-02T11:12:15.144586Z",
          "shell.execute_reply.started": "2024-06-02T11:12:15.100704Z",
          "shell.execute_reply": "2024-06-02T11:12:15.143676Z"
        },
        "trusted": true,
        "id": "6TYPR_88LGny"
      },
      "execution_count": null,
      "outputs": []
    },
    {
      "cell_type": "code",
      "source": [
        "image = tf.image.rgb_to_grayscale(sample_image)\n",
        "\n",
        "fig, (ax1, ax2) = plt.subplots(1, 2, figsize=(14, 10))\n",
        "\n",
        "# Set the spacing between subplots\n",
        "fig.tight_layout(pad=6.0)\n",
        "\n",
        "# View Original Image\n",
        "ax1.set_title('Original Image', fontsize=20)\n",
        "ax1.imshow(image, cmap='inferno');\n",
        "\n",
        "# View Augmented Image\n",
        "ax2.set_title('Augmented Image', fontsize=20)\n",
        "ax2.imshow(augmentation_layer(image), cmap='inferno');"
      ],
      "metadata": {
        "execution": {
          "iopub.status.busy": "2024-06-02T11:12:15.145853Z",
          "iopub.execute_input": "2024-06-02T11:12:15.146242Z",
          "iopub.status.idle": "2024-06-02T11:12:15.811841Z",
          "shell.execute_reply.started": "2024-06-02T11:12:15.146188Z",
          "shell.execute_reply": "2024-06-02T11:12:15.810949Z"
        },
        "trusted": true,
        "id": "t3J25DnsLGnz"
      },
      "execution_count": null,
      "outputs": []
    },
    {
      "cell_type": "markdown",
      "source": [
        "<div class=\"alert alert-block alert-info\">\n",
        "    <h3>Observe</h3>\n",
        "    The augmentation layer generates augmentations that are slightly different to the original images. This is intended as we aim to generate augmented images which are similar to that of the original dataset images while preserving the images key features.\n",
        "</div>"
      ],
      "metadata": {
        "id": "ToVdIMdbLGnz"
      }
    },
    {
      "cell_type": "markdown",
      "source": [
        "<a id='2.4'></a>\n",
        "### <font color='#478bd6'>Create Input Data Pipeline w. tf.data API</font>"
      ],
      "metadata": {
        "id": "ji0fGsPWLGnz"
      }
    },
    {
      "cell_type": "code",
      "source": [
        "def encode_labels(labels, encode_depth=2):\n",
        "    return tf.one_hot(labels, depth=encode_depth).numpy()\n",
        "\n",
        "def create_pipeline(df, load_function, augment=False, batch_size=32, shuffle=False, cache=None, prefetch=False):\n",
        "    '''\n",
        "    Generates an input pipeline using the tf.data API given a Pandas DataFrame and image loading function.\n",
        "\n",
        "    @params\n",
        "        - df: (pd.DataFrame) -> DataFrame containing paths and labels\n",
        "        - load_function: (function) -> function used to load images given their paths\n",
        "        - augment: (bool) -> condition for applying augmentation\n",
        "        - batch_size: (int) -> size for batched (default=32)\n",
        "        - shuffle: (bool) -> condition for data shuffling, data is shuffled when True (default=False)\n",
        "        - cache: (str) -> cache path for caching data, data is not cached when None (default=None)\n",
        "        - prefetch: (bool) -> condition for prefeching data, data is prefetched when True (default=False)\n",
        "\n",
        "    @returns\n",
        "        - dataset: (tf.data.Dataset) -> dataset input pipeline used to train a TensorFlow model\n",
        "    '''\n",
        "    # Get image paths and labels from DataFrame\n",
        "    image_paths = df.image_path\n",
        "    image_labels = encode_labels(df.label_encoded)\n",
        "    AUTOTUNE = tf.data.AUTOTUNE\n",
        "\n",
        "    # Create dataset with raw data from DataFrame\n",
        "    ds = tf.data.Dataset.from_tensor_slices((image_paths, image_labels))\n",
        "\n",
        "    # Map augmentation layer and load function to dataset inputs if augment is True\n",
        "    # Else map only the load function\n",
        "    if augment:\n",
        "        ds = ds.map(lambda x, y: (augmentation_layer(load_function(x)), y), num_parallel_calls=AUTOTUNE)\n",
        "    else:\n",
        "        ds = ds.map(lambda x, y: (load_function(x), y), num_parallel_calls=AUTOTUNE)\n",
        "\n",
        "    # Apply shuffling based on condition\n",
        "    if shuffle:\n",
        "        ds = ds.shuffle(buffer_size=1000)\n",
        "\n",
        "    # Apply batching\n",
        "    ds = ds.batch(batch_size)\n",
        "\n",
        "    # Apply caching based on condition\n",
        "    # Note: Use cache in memory (cache='') if the data is small enough to fit in memory!!!\n",
        "    if cache != None:\n",
        "        ds = ds.cache(cache)\n",
        "\n",
        "    # Apply prefetching based on condition\n",
        "    # Note: This will result in memory trade-offs\n",
        "    if prefetch:\n",
        "        ds = ds.prefetch(buffer_size=AUTOTUNE)\n",
        "\n",
        "    # Return the dataset\n",
        "    return ds"
      ],
      "metadata": {
        "execution": {
          "iopub.status.busy": "2024-06-02T11:12:15.813338Z",
          "iopub.execute_input": "2024-06-02T11:12:15.814102Z",
          "iopub.status.idle": "2024-06-02T11:12:15.828563Z",
          "shell.execute_reply.started": "2024-06-02T11:12:15.814051Z",
          "shell.execute_reply": "2024-06-02T11:12:15.827497Z"
        },
        "trusted": true,
        "id": "MBTOlfNaLGnz"
      },
      "execution_count": null,
      "outputs": []
    },
    {
      "cell_type": "code",
      "source": [
        "# Generate Train Input Pipeline\n",
        "train_ds = create_pipeline(train_new_df, _load, augment=True,\n",
        "                           batch_size=CFG.BATCH_SIZE,\n",
        "                           shuffle=False, prefetch=True)\n",
        "\n",
        "# Generate Validation Input Pipeline\n",
        "val_ds = create_pipeline(val_df, _load,\n",
        "                         batch_size=CFG.BATCH_SIZE,\n",
        "                         shuffle=False, prefetch=False)\n",
        "\n",
        "# Generate Test Input Pipeline\n",
        "test_ds = create_pipeline(test_df, _load,\n",
        "                          batch_size=CFG.BATCH_SIZE,\n",
        "                          shuffle=False, prefetch=False)"
      ],
      "metadata": {
        "execution": {
          "iopub.status.busy": "2024-06-02T11:12:15.829743Z",
          "iopub.execute_input": "2024-06-02T11:12:15.830062Z",
          "iopub.status.idle": "2024-06-02T11:12:16.242069Z",
          "shell.execute_reply.started": "2024-06-02T11:12:15.830022Z",
          "shell.execute_reply": "2024-06-02T11:12:16.241251Z"
        },
        "trusted": true,
        "id": "HxHSCcJ0LGn0"
      },
      "execution_count": null,
      "outputs": []
    },
    {
      "cell_type": "code",
      "source": [
        "# View string representation of datasets\n",
        "print('========================================')\n",
        "print('Train Input Data Pipeline:\\n\\n', train_ds)\n",
        "print('========================================')\n",
        "print('Validation Input Data Pipeline:\\n\\n', val_ds)\n",
        "print('========================================')\n",
        "print('Test Input Data Pipeline:\\n\\n', test_ds)\n",
        "print('========================================')"
      ],
      "metadata": {
        "execution": {
          "iopub.status.busy": "2024-06-02T11:12:16.243212Z",
          "iopub.execute_input": "2024-06-02T11:12:16.243521Z",
          "iopub.status.idle": "2024-06-02T11:12:16.250746Z",
          "shell.execute_reply.started": "2024-06-02T11:12:16.243493Z",
          "shell.execute_reply": "2024-06-02T11:12:16.249828Z"
        },
        "trusted": true,
        "id": "p2ueoGPrLGn0"
      },
      "execution_count": null,
      "outputs": []
    },
    {
      "cell_type": "markdown",
      "source": [],
      "metadata": {
        "id": "v8XIynDtLGn0"
      }
    },
    {
      "cell_type": "markdown",
      "source": [
        "<a id='3.2'></a>\n",
        "### <font color='#478bd6'>Define CNN Model</font>"
      ],
      "metadata": {
        "id": "l53wUtwHLGn0"
      }
    },
    {
      "cell_type": "code",
      "source": [
        "def cnn_model():\n",
        "\n",
        "    initializer = tf.keras.initializers.GlorotNormal()\n",
        "\n",
        "    cnn_sequential = Sequential([\n",
        "        layers.Input(shape=CFG.IMAGE_SIZE, dtype=tf.float32, name='input_image'),\n",
        "\n",
        "        layers.Conv2D(16, kernel_size=3, activation='relu', kernel_initializer=initializer),\n",
        "        layers.Conv2D(16, kernel_size=3, activation='relu', kernel_initializer=initializer),\n",
        "        layers.MaxPool2D(pool_size=2, padding='valid'),\n",
        "\n",
        "        layers.Conv2D(8, kernel_size=3, activation='relu', kernel_initializer=initializer),\n",
        "        layers.Conv2D(8, kernel_size=3, activation='relu', kernel_initializer=initializer),\n",
        "        layers.MaxPool2D(pool_size=2),\n",
        "\n",
        "        layers.Flatten(),\n",
        "        layers.Dropout(0.2),\n",
        "        layers.Dense(128, activation='relu', kernel_initializer=initializer),\n",
        "        layers.Dense(2, activation='sigmoid', kernel_initializer=initializer)\n",
        "    ], name='cnn_sequential_model')\n",
        "\n",
        "    return cnn_sequential"
      ],
      "metadata": {
        "execution": {
          "iopub.status.busy": "2024-06-02T11:12:16.252026Z",
          "iopub.execute_input": "2024-06-02T11:12:16.252388Z",
          "iopub.status.idle": "2024-06-02T11:12:16.263393Z",
          "shell.execute_reply.started": "2024-06-02T11:12:16.25235Z",
          "shell.execute_reply": "2024-06-02T11:12:16.262506Z"
        },
        "trusted": true,
        "id": "B7gt7Y0oLGn-"
      },
      "execution_count": null,
      "outputs": []
    },
    {
      "cell_type": "code",
      "source": [
        "# Generate Model\n",
        "model_cnn = cnn_model()\n",
        "\n",
        "# Generate Summary of the Model\n",
        "model_cnn.summary()"
      ],
      "metadata": {
        "execution": {
          "iopub.status.busy": "2024-06-02T11:12:16.264652Z",
          "iopub.execute_input": "2024-06-02T11:12:16.265419Z",
          "iopub.status.idle": "2024-06-02T11:12:16.34269Z",
          "shell.execute_reply.started": "2024-06-02T11:12:16.265385Z",
          "shell.execute_reply": "2024-06-02T11:12:16.341743Z"
        },
        "trusted": true,
        "id": "Y9KME9I3LGn-"
      },
      "execution_count": null,
      "outputs": []
    },
    {
      "cell_type": "code",
      "source": [
        "# Explore model visually\n",
        "plot_model(\n",
        "    model_cnn, dpi=60,\n",
        "    show_shapes=True\n",
        ")"
      ],
      "metadata": {
        "execution": {
          "iopub.status.busy": "2024-06-02T11:12:16.343909Z",
          "iopub.execute_input": "2024-06-02T11:12:16.344292Z",
          "iopub.status.idle": "2024-06-02T11:12:17.28131Z",
          "shell.execute_reply.started": "2024-06-02T11:12:16.344255Z",
          "shell.execute_reply": "2024-06-02T11:12:17.280261Z"
        },
        "trusted": true,
        "id": "3hfqBYyYLGn_"
      },
      "execution_count": null,
      "outputs": []
    },
    {
      "cell_type": "markdown",
      "source": [],
      "metadata": {
        "id": "85z7p9BwLGoA"
      }
    },
    {
      "cell_type": "code",
      "source": [
        "def train_model(model, num_epochs, callbacks_list, tf_train_data,\n",
        "                tf_valid_data=None, shuffling=False):\n",
        "    '''\n",
        "        Trains a TensorFlow model and returns a dict object containing the model metrics history data.\n",
        "\n",
        "        @params\n",
        "        - model: (tf.keras.model) -> model to be trained\n",
        "        - num_epochs: (int) -> number of epochs to train the model\n",
        "        - callbacks_list: (list) -> list containing callback fuctions for model\n",
        "        - tf_train_data: (tf.data.Dataset) -> dataset for model to be train on\n",
        "        - tf_valid_data: (tf.data.Dataset) -> dataset for model to be validated on (default=None)\n",
        "        - shuffling: (bool) -> condition for data shuffling, data is shuffled when True (default=False)\n",
        "\n",
        "        @returns\n",
        "        - model_history: (dict) -> dictionary containing loss and metrics values tracked during training\n",
        "    '''\n",
        "\n",
        "    model_history = {}\n",
        "\n",
        "    if tf_valid_data != None:\n",
        "        model_history = model.fit(tf_train_data,\n",
        "                                  epochs=num_epochs,\n",
        "                                  validation_data=tf_valid_data,\n",
        "                                  validation_steps=int(len(tf_valid_data)),\n",
        "                                  callbacks=callbacks_list,\n",
        "                                  shuffle=shuffling)\n",
        "\n",
        "    if tf_valid_data == None:\n",
        "        model_history = model.fit(tf_train_data,\n",
        "                                  epochs=num_epochs,\n",
        "                                  callbacks=callbacks_list,\n",
        "                                  shuffle=shuffling)\n",
        "    return model_history"
      ],
      "metadata": {
        "execution": {
          "iopub.status.busy": "2024-06-02T11:12:17.282843Z",
          "iopub.execute_input": "2024-06-02T11:12:17.28318Z",
          "iopub.status.idle": "2024-06-02T11:12:17.292098Z",
          "shell.execute_reply.started": "2024-06-02T11:12:17.283145Z",
          "shell.execute_reply": "2024-06-02T11:12:17.291061Z"
        },
        "trusted": true,
        "id": "tM5MsOXYLGoA"
      },
      "execution_count": null,
      "outputs": []
    },
    {
      "cell_type": "code",
      "source": [
        "# Define Early Stopping Callback\n",
        "early_stopping_callback = tf.keras.callbacks.EarlyStopping(\n",
        "    monitor='val_loss',\n",
        "    patience=3,\n",
        "    restore_best_weights=True)\n",
        "\n",
        "# Define Reduce Learning Rate Callback\n",
        "reduce_lr_callback = tf.keras.callbacks.ReduceLROnPlateau(\n",
        "    monitor='val_loss',\n",
        "    patience=2,\n",
        "    factor=0.1,\n",
        "    verbose=1)\n",
        "\n",
        "# Define Callbacks and Metrics lists\n",
        "CALLBACKS = [early_stopping_callback, reduce_lr_callback]\n",
        "METRICS = ['accuracy']"
      ],
      "metadata": {
        "execution": {
          "iopub.status.busy": "2024-06-02T11:12:17.293614Z",
          "iopub.execute_input": "2024-06-02T11:12:17.294614Z",
          "iopub.status.idle": "2024-06-02T11:12:17.302087Z",
          "shell.execute_reply.started": "2024-06-02T11:12:17.294576Z",
          "shell.execute_reply": "2024-06-02T11:12:17.301186Z"
        },
        "trusted": true,
        "id": "1ERmSg-oLGoA"
      },
      "execution_count": null,
      "outputs": []
    },
    {
      "cell_type": "code",
      "source": [
        "tf.random.set_seed(CFG.SEED)\n",
        "\n",
        "# Compile the model\n",
        "model_cnn.compile(\n",
        "    loss=tf.keras.losses.BinaryCrossentropy(),\n",
        "    optimizer=tf.keras.optimizers.Adam(learning_rate=0.001),\n",
        "    metrics=METRICS\n",
        ")\n",
        "\n",
        "# Train the model\n",
        "print(f'Training {model_cnn.name}.')\n",
        "print(f'Train on {len(train_new_df)} samples, validate on {len(val_df)} samples.')\n",
        "print('----------------------------------')\n",
        "\n",
        "cnn_history = train_model(\n",
        "    model_cnn, CFG.EPOCHS, CALLBACKS,\n",
        "    train_ds, val_ds,\n",
        "    shuffling=False\n",
        ")"
      ],
      "metadata": {
        "execution": {
          "iopub.status.busy": "2024-06-02T11:12:17.303268Z",
          "iopub.execute_input": "2024-06-02T11:12:17.303623Z",
          "iopub.status.idle": "2024-06-02T11:13:38.669289Z",
          "shell.execute_reply.started": "2024-06-02T11:12:17.303581Z",
          "shell.execute_reply": "2024-06-02T11:13:38.668415Z"
        },
        "trusted": true,
        "id": "_Eqqvvf8LGoA"
      },
      "execution_count": null,
      "outputs": []
    },
    {
      "cell_type": "code",
      "source": [
        "# Evaluate the model\n",
        "cnn_evaluation = model_cnn.evaluate(test_ds)"
      ],
      "metadata": {
        "execution": {
          "iopub.status.busy": "2024-06-02T11:13:38.67774Z",
          "iopub.execute_input": "2024-06-02T11:13:38.678049Z",
          "iopub.status.idle": "2024-06-02T11:13:40.363118Z",
          "shell.execute_reply.started": "2024-06-02T11:13:38.678019Z",
          "shell.execute_reply": "2024-06-02T11:13:40.362338Z"
        },
        "trusted": true,
        "id": "8282w3iOLGoB"
      },
      "execution_count": null,
      "outputs": []
    },
    {
      "cell_type": "code",
      "source": [
        "# Generate model probabilities and associated predictions\n",
        "cnn_test_probabilities = model_cnn.predict(test_ds, verbose=1)\n",
        "cnn_test_predictions = tf.argmax(cnn_test_probabilities, axis=1)"
      ],
      "metadata": {
        "execution": {
          "iopub.status.busy": "2024-06-02T11:13:40.364384Z",
          "iopub.execute_input": "2024-06-02T11:13:40.364681Z",
          "iopub.status.idle": "2024-06-02T11:13:41.573428Z",
          "shell.execute_reply.started": "2024-06-02T11:13:40.364651Z",
          "shell.execute_reply": "2024-06-02T11:13:41.572358Z"
        },
        "trusted": true,
        "id": "yf87ZcTULGoB"
      },
      "execution_count": null,
      "outputs": []
    },
    {
      "cell_type": "markdown",
      "source": [],
      "metadata": {
        "id": "IgEPmaKVLGoB"
      }
    },
    {
      "cell_type": "markdown",
      "source": [],
      "metadata": {
        "id": "2chUqB9kLGoC"
      }
    },
    {
      "cell_type": "code",
      "source": [
        "# Here's a function to get any model/preprocessor from tensorflow hub\n",
        "def get_tfhub_model(model_link, model_name, model_trainable=False):\n",
        "    return hub.KerasLayer(model_link,\n",
        "                          trainable=model_trainable,\n",
        "                          name=model_name)"
      ],
      "metadata": {
        "execution": {
          "iopub.status.busy": "2024-06-02T11:13:41.574872Z",
          "iopub.execute_input": "2024-06-02T11:13:41.575552Z",
          "iopub.status.idle": "2024-06-02T11:13:41.580782Z",
          "shell.execute_reply.started": "2024-06-02T11:13:41.575512Z",
          "shell.execute_reply": "2024-06-02T11:13:41.579726Z"
        },
        "trusted": true,
        "id": "Mw2z9BHmLGoC"
      },
      "execution_count": null,
      "outputs": []
    },
    {
      "cell_type": "markdown",
      "source": [
        "<a id=\"4.1\"></a>\n",
        "### <font color='#478bd6'>Get EfficientNet From TensorFlow Hub</font>"
      ],
      "metadata": {
        "id": "Sn2ZwtNvLGoC"
      }
    },
    {
      "cell_type": "code",
      "source": [
        "# Get EfficientNet V2 B0 here\n",
        "efficientnet_v2_url = 'https://tfhub.dev/google/imagenet/efficientnet_v2_imagenet21k_b0/feature_vector/2'\n",
        "model_name = 'efficientnet_v2_b0'\n",
        "\n",
        "# Set trainable to False for inference-only\n",
        "set_trainable=False\n",
        "\n",
        "efficientnet_v2_b0 = get_tfhub_model(efficientnet_v2_url,\n",
        "                                     model_name,\n",
        "                                     model_trainable=set_trainable)"
      ],
      "metadata": {
        "execution": {
          "iopub.status.busy": "2024-06-02T11:13:41.581969Z",
          "iopub.execute_input": "2024-06-02T11:13:41.58228Z",
          "iopub.status.idle": "2024-06-02T11:13:47.745557Z",
          "shell.execute_reply.started": "2024-06-02T11:13:41.582243Z",
          "shell.execute_reply": "2024-06-02T11:13:47.744711Z"
        },
        "trusted": true,
        "id": "rcB4eIaTLGoC"
      },
      "execution_count": null,
      "outputs": []
    },
    {
      "cell_type": "markdown",
      "source": [
        "<a id=\"4.2\"></a>\n",
        "### <font color='#478bd6'>Define EfficientNet Model</font>"
      ],
      "metadata": {
        "id": "lvfnQZv-LGoD"
      }
    },
    {
      "cell_type": "code",
      "source": [
        "def efficientnet_v2_model():\n",
        "\n",
        "    initializer = tf.keras.initializers.GlorotNormal()\n",
        "\n",
        "    efficientnet_v2_sequential = Sequential([\n",
        "        layers.Input(shape=CFG.IMAGE_SIZE, dtype=tf.float32, name='input_image'),\n",
        "        efficientnet_v2_b0,\n",
        "        layers.Dropout(0.2),\n",
        "        layers.Dense(128, activation='relu', kernel_initializer=initializer),\n",
        "        layers.Dense(2, dtype=tf.float32, activation='sigmoid', kernel_initializer=initializer)\n",
        "    ], name='efficientnet_v2_sequential_model')\n",
        "\n",
        "    return efficientnet_v2_sequential"
      ],
      "metadata": {
        "execution": {
          "iopub.status.busy": "2024-06-02T11:13:47.74669Z",
          "iopub.execute_input": "2024-06-02T11:13:47.746961Z",
          "iopub.status.idle": "2024-06-02T11:13:47.753707Z",
          "shell.execute_reply.started": "2024-06-02T11:13:47.746935Z",
          "shell.execute_reply": "2024-06-02T11:13:47.752807Z"
        },
        "trusted": true,
        "id": "FpGdkDzsLGoD"
      },
      "execution_count": null,
      "outputs": []
    },
    {
      "cell_type": "code",
      "source": [
        "# Generate Model\n",
        "model_efficientnet_v2 = efficientnet_v2_model()\n",
        "\n",
        "# Generate Summary of the Model\n",
        "model_efficientnet_v2.summary()"
      ],
      "metadata": {
        "execution": {
          "iopub.status.busy": "2024-06-02T11:13:47.754978Z",
          "iopub.execute_input": "2024-06-02T11:13:47.755349Z",
          "iopub.status.idle": "2024-06-02T11:13:48.589556Z",
          "shell.execute_reply.started": "2024-06-02T11:13:47.755312Z",
          "shell.execute_reply": "2024-06-02T11:13:48.588578Z"
        },
        "trusted": true,
        "id": "6wWgnqWDLGoE"
      },
      "execution_count": null,
      "outputs": []
    },
    {
      "cell_type": "code",
      "source": [
        "# Explore model visually\n",
        "plot_model(\n",
        "    model_efficientnet_v2, dpi=60,\n",
        "    show_shapes=True\n",
        ")"
      ],
      "metadata": {
        "execution": {
          "iopub.status.busy": "2024-06-02T11:13:48.590791Z",
          "iopub.execute_input": "2024-06-02T11:13:48.591086Z",
          "iopub.status.idle": "2024-06-02T11:13:48.804082Z",
          "shell.execute_reply.started": "2024-06-02T11:13:48.591057Z",
          "shell.execute_reply": "2024-06-02T11:13:48.802882Z"
        },
        "trusted": true,
        "id": "NpH5Pp8VLGoE"
      },
      "execution_count": null,
      "outputs": []
    },
    {
      "cell_type": "markdown",
      "source": [
        "<a id=\"4.3\"></a>\n",
        "### <font color='#478bd6'>Train EfficientNet Model</font>"
      ],
      "metadata": {
        "id": "X7pBrmXoLGoE"
      }
    },
    {
      "cell_type": "code",
      "source": [
        "tf.random.set_seed(CFG.SEED)\n",
        "\n",
        "# Compile the model\n",
        "model_efficientnet_v2.compile(\n",
        "    loss=tf.keras.losses.BinaryCrossentropy(),\n",
        "    optimizer=tf.keras.optimizers.Adam(learning_rate=0.001),\n",
        "    metrics=METRICS\n",
        ")\n",
        "\n",
        "# Train the model\n",
        "print(f'Training {model_efficientnet_v2.name}.')\n",
        "print(f'Train on {len(train_new_df)} samples, validate on {len(val_df)} samples.')\n",
        "print('----------------------------------')\n",
        "\n",
        "efficientnet_v2_history = train_model(\n",
        "    model_efficientnet_v2, CFG.EPOCHS, CALLBACKS,\n",
        "    train_ds, val_ds,\n",
        "    shuffling=False\n",
        ")"
      ],
      "metadata": {
        "execution": {
          "iopub.status.busy": "2024-06-02T11:13:48.806024Z",
          "iopub.execute_input": "2024-06-02T11:13:48.806972Z",
          "iopub.status.idle": "2024-06-02T11:15:38.612222Z",
          "shell.execute_reply.started": "2024-06-02T11:13:48.806922Z",
          "shell.execute_reply": "2024-06-02T11:15:38.611336Z"
        },
        "trusted": true,
        "id": "czA9jVPPLGoF"
      },
      "execution_count": null,
      "outputs": []
    },
    {
      "cell_type": "code",
      "source": [
        "# Evaluate the model\n",
        "efficientnet_v2_evaluation = model_efficientnet_v2.evaluate(test_ds)"
      ],
      "metadata": {
        "execution": {
          "iopub.status.busy": "2024-06-02T11:15:38.614299Z",
          "iopub.execute_input": "2024-06-02T11:15:38.614613Z",
          "iopub.status.idle": "2024-06-02T11:15:40.285052Z",
          "shell.execute_reply.started": "2024-06-02T11:15:38.614586Z",
          "shell.execute_reply": "2024-06-02T11:15:40.284208Z"
        },
        "trusted": true,
        "id": "lwWp-kPwLGoF"
      },
      "execution_count": null,
      "outputs": []
    },
    {
      "cell_type": "code",
      "source": [
        "# Generate model probabilities and associated predictions\n",
        "efficientnet_v2_test_probabilities = model_efficientnet_v2.predict(test_ds, verbose=1)\n",
        "efficientnet_v2_test_predictions = tf.argmax(efficientnet_v2_test_probabilities, axis=1)"
      ],
      "metadata": {
        "execution": {
          "iopub.status.busy": "2024-06-02T11:15:40.286549Z",
          "iopub.execute_input": "2024-06-02T11:15:40.286928Z",
          "iopub.status.idle": "2024-06-02T11:15:42.177781Z",
          "shell.execute_reply.started": "2024-06-02T11:15:40.28689Z",
          "shell.execute_reply": "2024-06-02T11:15:42.176808Z"
        },
        "trusted": true,
        "id": "8GKZ-c5RLGoF"
      },
      "execution_count": null,
      "outputs": []
    },
    {
      "cell_type": "markdown",
      "source": [
        "<div class=\"alert alert-block alert-info\">\n",
        "    <h3>Observe</h3>\n",
        "    The EfficientNet model was capable of convereging to a test loss similar to that observed with the validation set, but not the training set (some overfitting might have occured). It also outperforms the CNN model by converging to a lower test loss and achieving a higher accuracy.  \n",
        "</div>"
      ],
      "metadata": {
        "id": "Cxpdz5cxLGoG"
      }
    },
    {
      "cell_type": "markdown",
      "source": [],
      "metadata": {
        "id": "nEMBICBtLGoG"
      }
    },
    {
      "cell_type": "code",
      "source": [
        "!pip install -q vit-keras"
      ],
      "metadata": {
        "execution": {
          "iopub.status.busy": "2024-06-02T11:15:42.179074Z",
          "iopub.execute_input": "2024-06-02T11:15:42.179411Z",
          "iopub.status.idle": "2024-06-02T11:15:56.665665Z",
          "shell.execute_reply.started": "2024-06-02T11:15:42.179373Z",
          "shell.execute_reply": "2024-06-02T11:15:56.664418Z"
        },
        "trusted": true,
        "id": "H7BuZ3M7LGoH"
      },
      "execution_count": null,
      "outputs": []
    },
    {
      "cell_type": "markdown",
      "source": [
        "<a id='5.1'></a>\n",
        "### <font color='#478bd6'>Get Vision Transformer Model</font>"
      ],
      "metadata": {
        "id": "Iyb0b1gBLGoH"
      }
    },
    {
      "cell_type": "code",
      "source": [
        "from vit_keras import vit\n",
        "\n",
        "# Download the model\n",
        "vit_model = vit.vit_b16(\n",
        "    image_size=224,\n",
        "    activation='sigmoid',\n",
        "    pretrained=True,\n",
        "    include_top=False,\n",
        "    pretrained_top=False,\n",
        "    classes=2\n",
        ")\n",
        "\n",
        "# Freeze model layers for inference-mode only\n",
        "for layer in vit_model.layers:\n",
        "    layer.trainable = False"
      ],
      "metadata": {
        "execution": {
          "iopub.status.busy": "2024-06-02T11:15:56.667509Z",
          "iopub.execute_input": "2024-06-02T11:15:56.668472Z",
          "iopub.status.idle": "2024-06-02T11:16:02.22336Z",
          "shell.execute_reply.started": "2024-06-02T11:15:56.668421Z",
          "shell.execute_reply": "2024-06-02T11:16:02.222523Z"
        },
        "trusted": true,
        "id": "viQfwsSHLGoH"
      },
      "execution_count": null,
      "outputs": []
    },
    {
      "cell_type": "markdown",
      "source": [
        "<a id='5.2'></a>\n",
        "### <font color='#478bd6'>Define Vision Transformer Model</font>"
      ],
      "metadata": {
        "id": "l4jdgiFyLGoI"
      }
    },
    {
      "cell_type": "code",
      "source": [
        "def vit_b16_model():\n",
        "\n",
        "    initializer = tf.keras.initializers.GlorotNormal()\n",
        "\n",
        "    vit_b16_sequential = Sequential([\n",
        "        layers.Input(shape=CFG.IMAGE_SIZE, dtype=tf.float32, name='input_image'),\n",
        "        vit_model,\n",
        "        layers.Dropout(0.2),\n",
        "        layers.Dense(128, activation='relu', kernel_initializer=initializer),\n",
        "        layers.Dense(2, dtype=tf.float32, activation='sigmoid', kernel_initializer=initializer)\n",
        "    ], name='vit_b16_sequential_model')\n",
        "\n",
        "    return vit_b16_sequential"
      ],
      "metadata": {
        "execution": {
          "iopub.status.busy": "2024-06-02T11:16:02.22453Z",
          "iopub.execute_input": "2024-06-02T11:16:02.224844Z",
          "iopub.status.idle": "2024-06-02T11:16:02.231576Z",
          "shell.execute_reply.started": "2024-06-02T11:16:02.224816Z",
          "shell.execute_reply": "2024-06-02T11:16:02.230445Z"
        },
        "trusted": true,
        "id": "0UKo2iBnLGoI"
      },
      "execution_count": null,
      "outputs": []
    },
    {
      "cell_type": "code",
      "source": [
        "# Generate Model\n",
        "model_vit_b16 = vit_b16_model()\n",
        "\n",
        "# Generate Summary of the Model\n",
        "model_vit_b16.summary()"
      ],
      "metadata": {
        "execution": {
          "iopub.status.busy": "2024-06-02T11:16:02.232685Z",
          "iopub.execute_input": "2024-06-02T11:16:02.233042Z",
          "iopub.status.idle": "2024-06-02T11:16:03.701455Z",
          "shell.execute_reply.started": "2024-06-02T11:16:02.233006Z",
          "shell.execute_reply": "2024-06-02T11:16:03.700423Z"
        },
        "trusted": true,
        "id": "93VtZICzLGoI"
      },
      "execution_count": null,
      "outputs": []
    },
    {
      "cell_type": "code",
      "source": [
        "# Explore model visually\n",
        "plot_model(\n",
        "    model_vit_b16, dpi=60,\n",
        "    show_shapes=True\n",
        ")"
      ],
      "metadata": {
        "execution": {
          "iopub.status.busy": "2024-06-02T11:16:03.702922Z",
          "iopub.execute_input": "2024-06-02T11:16:03.703776Z",
          "iopub.status.idle": "2024-06-02T11:16:03.935355Z",
          "shell.execute_reply.started": "2024-06-02T11:16:03.703733Z",
          "shell.execute_reply": "2024-06-02T11:16:03.934091Z"
        },
        "trusted": true,
        "id": "KS0R2cQ3LGoI"
      },
      "execution_count": null,
      "outputs": []
    },
    {
      "cell_type": "markdown",
      "source": [
        "<a id='5.3'></a>\n",
        "### <font color='#478bd6'>Train Vision Transformer Model</font>"
      ],
      "metadata": {
        "id": "ZJQAno0lLGoJ"
      }
    },
    {
      "cell_type": "code",
      "source": [
        "tf.random.set_seed(CFG.SEED)\n",
        "\n",
        "# Compile the model\n",
        "model_vit_b16.compile(\n",
        "    loss=tf.keras.losses.BinaryCrossentropy(),\n",
        "    optimizer=tf.keras.optimizers.Adam(learning_rate=0.001),\n",
        "    metrics=METRICS\n",
        ")\n",
        "\n",
        "# Train the model\n",
        "print(f'Training {model_vit_b16.name}.')\n",
        "print(f'Train on {len(train_new_df)} samples, validate on {len(val_df)} samples.')\n",
        "print('----------------------------------')\n",
        "\n",
        "vit_b16_history = train_model(\n",
        "    model_vit_b16, CFG.EPOCHS, CALLBACKS,\n",
        "    train_ds, val_ds,\n",
        "    shuffling=False\n",
        ")"
      ],
      "metadata": {
        "execution": {
          "iopub.status.busy": "2024-06-02T11:16:03.936895Z",
          "iopub.execute_input": "2024-06-02T11:16:03.937237Z",
          "iopub.status.idle": "2024-06-02T11:21:25.513413Z",
          "shell.execute_reply.started": "2024-06-02T11:16:03.937189Z",
          "shell.execute_reply": "2024-06-02T11:21:25.512433Z"
        },
        "trusted": true,
        "id": "QX-DtyPDLGoJ"
      },
      "execution_count": null,
      "outputs": []
    },
    {
      "cell_type": "code",
      "source": [
        "# Evaluate the model\n",
        "vit_b16_evaluation = model_vit_b16.evaluate(test_ds)"
      ],
      "metadata": {
        "execution": {
          "iopub.status.busy": "2024-06-02T11:21:25.516374Z",
          "iopub.execute_input": "2024-06-02T11:21:25.516661Z",
          "iopub.status.idle": "2024-06-02T11:21:30.527528Z",
          "shell.execute_reply.started": "2024-06-02T11:21:25.516635Z",
          "shell.execute_reply": "2024-06-02T11:21:30.526525Z"
        },
        "trusted": true,
        "id": "_Uh_tNLWLGoJ"
      },
      "execution_count": null,
      "outputs": []
    },
    {
      "cell_type": "code",
      "source": [
        "# Generate model probabilities and associated predictions\n",
        "vit_b16_test_probabilities = model_vit_b16.predict(test_ds, verbose=1)\n",
        "vit_b16_test_predictions = tf.argmax(vit_b16_test_probabilities, axis=1)"
      ],
      "metadata": {
        "execution": {
          "iopub.status.busy": "2024-06-02T11:21:30.529166Z",
          "iopub.execute_input": "2024-06-02T11:21:30.529582Z",
          "iopub.status.idle": "2024-06-02T11:21:37.863089Z",
          "shell.execute_reply.started": "2024-06-02T11:21:30.529543Z",
          "shell.execute_reply": "2024-06-02T11:21:37.862231Z"
        },
        "trusted": true,
        "id": "nzulJhUhLGoJ"
      },
      "execution_count": null,
      "outputs": []
    },
    {
      "cell_type": "markdown",
      "source": [
        "<div class=\"alert alert-block alert-info\">\n",
        "    <h3>Observe</h3>\n",
        "    The Vision Transformer model was capable of convereging to a test loss slighty higher that the validation loss and there are visible differences between the test loss and training loss (some overfitting might have occured). It also outperforms the CNN model by converging to a lower test loss and achieving a higher accuracy. However, it seems to underperform when compared to the EfficientNet model. This model might require more epochs for training.\n",
        "</div>"
      ],
      "metadata": {
        "id": "TBuS0yODLGoK"
      }
    },
    {
      "cell_type": "markdown",
      "source": [],
      "metadata": {
        "id": "ft0ua3sULGoK"
      }
    },
    {
      "cell_type": "markdown",
      "source": [
        "<a id='6.1'></a>\n",
        "### <font color='#478bd6'>Plot Model Histories</font>"
      ],
      "metadata": {
        "id": "tVlH18wxLGoK"
      }
    },
    {
      "cell_type": "code",
      "source": [
        "def plot_training_curves(history):\n",
        "\n",
        "    loss = np.array(history.history['loss'])\n",
        "    val_loss = np.array(history.history['val_loss'])\n",
        "\n",
        "    accuracy = np.array(history.history['accuracy'])\n",
        "    val_accuracy = np.array(history.history['val_accuracy'])\n",
        "\n",
        "    epochs = range(len(history.history['loss']))\n",
        "\n",
        "    fig, (ax1, ax2) = plt.subplots(1, 2, figsize=(20, 10))\n",
        "\n",
        "    # Plot loss\n",
        "    ax1.plot(epochs, loss, label='training_loss', marker='o')\n",
        "    ax1.plot(epochs, val_loss, label='val_loss', marker='o')\n",
        "\n",
        "    ax1.fill_between(epochs, loss, val_loss, where=(loss > val_loss), color='C0', alpha=0.3, interpolate=True)\n",
        "    ax1.fill_between(epochs, loss, val_loss, where=(loss < val_loss), color='C1', alpha=0.3, interpolate=True)\n",
        "\n",
        "    ax1.set_title('Loss (Lower Means Better)', fontsize=16)\n",
        "    ax1.set_xlabel('Epochs', fontsize=12)\n",
        "    ax1.legend()\n",
        "\n",
        "    # Plot accuracy\n",
        "    ax2.plot(epochs, accuracy, label='training_accuracy', marker='o')\n",
        "    ax2.plot(epochs, val_accuracy, label='val_accuracy', marker='o')\n",
        "\n",
        "    ax2.fill_between(epochs, accuracy, val_accuracy, where=(accuracy > val_accuracy), color='C0', alpha=0.3, interpolate=True)\n",
        "    ax2.fill_between(epochs, accuracy, val_accuracy, where=(accuracy < val_accuracy), color='C1', alpha=0.3, interpolate=True)\n",
        "\n",
        "    ax2.set_title('Accuracy (Higher Means Better)', fontsize=16)\n",
        "    ax2.set_xlabel('Epochs', fontsize=12)\n",
        "    ax2.legend();"
      ],
      "metadata": {
        "execution": {
          "iopub.status.busy": "2024-06-02T11:21:37.86441Z",
          "iopub.execute_input": "2024-06-02T11:21:37.864743Z",
          "iopub.status.idle": "2024-06-02T11:21:37.879451Z",
          "shell.execute_reply.started": "2024-06-02T11:21:37.864712Z",
          "shell.execute_reply": "2024-06-02T11:21:37.878237Z"
        },
        "trusted": true,
        "id": "AHHbrD4KLGoK"
      },
      "execution_count": null,
      "outputs": []
    },
    {
      "cell_type": "code",
      "source": [
        "# plot cnn model training history\n",
        "plot_training_curves(cnn_history)"
      ],
      "metadata": {
        "execution": {
          "iopub.status.busy": "2024-06-02T11:21:37.880777Z",
          "iopub.execute_input": "2024-06-02T11:21:37.881085Z",
          "iopub.status.idle": "2024-06-02T11:21:38.302748Z",
          "shell.execute_reply.started": "2024-06-02T11:21:37.881058Z",
          "shell.execute_reply": "2024-06-02T11:21:38.301712Z"
        },
        "trusted": true,
        "id": "yrhQdAqJLGoL"
      },
      "execution_count": null,
      "outputs": []
    },
    {
      "cell_type": "markdown",
      "source": [
        "<div class=\"alert alert-block alert-info\">\n",
        "    <h3>Observe</h3>\n",
        "    We observe a stable convergence to a lower loss. No sign of overfitting.\n",
        "</div>"
      ],
      "metadata": {
        "id": "eNxlbQw1LGoL"
      }
    },
    {
      "cell_type": "code",
      "source": [
        "# Plot EfficientNet V2 B0 model training history\n",
        "plot_training_curves(efficientnet_v2_history)"
      ],
      "metadata": {
        "execution": {
          "iopub.status.busy": "2024-06-02T11:21:38.30399Z",
          "iopub.execute_input": "2024-06-02T11:21:38.304322Z",
          "iopub.status.idle": "2024-06-02T11:21:38.710202Z",
          "shell.execute_reply.started": "2024-06-02T11:21:38.304293Z",
          "shell.execute_reply": "2024-06-02T11:21:38.70935Z"
        },
        "trusted": true,
        "id": "WudT7FYmLGoL"
      },
      "execution_count": null,
      "outputs": []
    },
    {
      "cell_type": "markdown",
      "source": [
        "<div class=\"alert alert-block alert-info\">\n",
        "    <h3>Observe</h3>\n",
        "    Some overfitting might have occured during the training of the EfficientNet model as the training loss converges in a stable fashion, but the validation loss is unstable for the first few epochs and converges to a higher loss than that observed for the training set.\n",
        "</div>"
      ],
      "metadata": {
        "id": "uAtvhAzzLGoM"
      }
    },
    {
      "cell_type": "code",
      "source": [
        "# Plot VIT B16 model training history\n",
        "plot_training_curves(vit_b16_history)"
      ],
      "metadata": {
        "execution": {
          "iopub.status.busy": "2024-06-02T11:21:38.711454Z",
          "iopub.execute_input": "2024-06-02T11:21:38.711769Z",
          "iopub.status.idle": "2024-06-02T11:21:39.041395Z",
          "shell.execute_reply.started": "2024-06-02T11:21:38.71174Z",
          "shell.execute_reply": "2024-06-02T11:21:39.040443Z"
        },
        "trusted": true,
        "id": "Y2Rjhul_LGoM"
      },
      "execution_count": null,
      "outputs": []
    },
    {
      "cell_type": "markdown",
      "source": [
        "<div class=\"alert alert-block alert-info\">\n",
        "    <h3>Observe</h3>\n",
        "    Some slight overfitting might have occured during the last few training epochs for the Vision Transformer model since the training and validation losses converges at a stable rate, but towards the last few epochs there is a gap which forms between the losses.\n",
        "</div>"
      ],
      "metadata": {
        "id": "yNW-xtnbLGoM"
      }
    },
    {
      "cell_type": "markdown",
      "source": [
        "<a id='6.2'></a>\n",
        "### <font color='#478bd6'>Plot Confusion Matrix</font>"
      ],
      "metadata": {
        "id": "OcRhm03hLGoN"
      }
    },
    {
      "cell_type": "code",
      "source": [
        "def plot_confusion_matrix(y_true, y_pred, classes='auto', figsize=(10, 10), text_size=12):\n",
        "    # Generate confusion matrix\n",
        "    cm = confusion_matrix(y_true, y_pred)\n",
        "\n",
        "    # Set plot size\n",
        "    plt.figure(figsize=figsize)\n",
        "\n",
        "    # Create confusion matrix heatmap\n",
        "    disp = sns.heatmap(\n",
        "        cm, annot=True, cmap='Greens',\n",
        "        annot_kws={\"size\": text_size}, fmt='g',\n",
        "        linewidths=1, linecolor='black', clip_on=False,\n",
        "        xticklabels=classes, yticklabels=classes)\n",
        "\n",
        "    # Set title and axis labels\n",
        "    disp.set_title('Confusion Matrix', fontsize=24)\n",
        "    disp.set_xlabel('Predicted Label', fontsize=20)\n",
        "    disp.set_ylabel('True Label', fontsize=20)\n",
        "    plt.yticks(rotation=0)\n",
        "\n",
        "    # Plot confusion matrix\n",
        "    plt.show()\n",
        "\n",
        "    return"
      ],
      "metadata": {
        "execution": {
          "iopub.status.busy": "2024-06-02T11:21:39.042713Z",
          "iopub.execute_input": "2024-06-02T11:21:39.04308Z",
          "iopub.status.idle": "2024-06-02T11:21:39.052936Z",
          "shell.execute_reply.started": "2024-06-02T11:21:39.043041Z",
          "shell.execute_reply": "2024-06-02T11:21:39.051884Z"
        },
        "trusted": true,
        "id": "fhNlceLgLGoN"
      },
      "execution_count": null,
      "outputs": []
    },
    {
      "cell_type": "markdown",
      "source": [
        "### <font color='#478bd6'>CNN Confusion Matrix</font>"
      ],
      "metadata": {
        "id": "HXUJEaYyLGoO"
      }
    },
    {
      "cell_type": "code",
      "source": [
        "class_names = ['jerawat', 'normal']\n",
        "\n",
        "plot_confusion_matrix(\n",
        "    test_df.label_encoded,\n",
        "    cnn_test_predictions,\n",
        "    figsize=(8, 8),\n",
        "    classes=class_names)"
      ],
      "metadata": {
        "execution": {
          "iopub.status.busy": "2024-06-02T11:21:39.05417Z",
          "iopub.execute_input": "2024-06-02T11:21:39.054504Z",
          "iopub.status.idle": "2024-06-02T11:21:39.244459Z",
          "shell.execute_reply.started": "2024-06-02T11:21:39.054475Z",
          "shell.execute_reply": "2024-06-02T11:21:39.243503Z"
        },
        "trusted": true,
        "id": "6MIUuRA7LGoP"
      },
      "execution_count": null,
      "outputs": []
    },
    {
      "cell_type": "markdown",
      "source": [
        "### <font color='#478bd6'>EfficientNet V2 B0 Confusion Matrix</font>"
      ],
      "metadata": {
        "id": "xdJcQWJ0LGoP"
      }
    },
    {
      "cell_type": "code",
      "source": [
        "plot_confusion_matrix(\n",
        "    test_df.label_encoded,\n",
        "    efficientnet_v2_test_predictions,\n",
        "    figsize=(8, 8),\n",
        "    classes=class_names)"
      ],
      "metadata": {
        "execution": {
          "iopub.status.busy": "2024-06-02T11:21:39.245797Z",
          "iopub.execute_input": "2024-06-02T11:21:39.246163Z",
          "iopub.status.idle": "2024-06-02T11:21:39.431011Z",
          "shell.execute_reply.started": "2024-06-02T11:21:39.246125Z",
          "shell.execute_reply": "2024-06-02T11:21:39.430036Z"
        },
        "trusted": true,
        "id": "WJ3wU9wLLGoQ"
      },
      "execution_count": null,
      "outputs": []
    },
    {
      "cell_type": "markdown",
      "source": [
        "### <font color='#478bd6'>ViT-b16 Confusion Matrix</font>"
      ],
      "metadata": {
        "id": "JHap2XDULGoR"
      }
    },
    {
      "cell_type": "code",
      "source": [
        "plot_confusion_matrix(\n",
        "    test_df.label_encoded,\n",
        "    vit_b16_test_predictions,\n",
        "    figsize=(8, 8),\n",
        "    classes=class_names)"
      ],
      "metadata": {
        "execution": {
          "iopub.status.busy": "2024-06-02T11:21:39.432597Z",
          "iopub.execute_input": "2024-06-02T11:21:39.433228Z",
          "iopub.status.idle": "2024-06-02T11:21:39.611815Z",
          "shell.execute_reply.started": "2024-06-02T11:21:39.43317Z",
          "shell.execute_reply": "2024-06-02T11:21:39.610704Z"
        },
        "trusted": true,
        "id": "IzTqRcKZLGoR"
      },
      "execution_count": null,
      "outputs": []
    },
    {
      "cell_type": "markdown",
      "source": [],
      "metadata": {
        "id": "q37jjUfBLGoR"
      }
    },
    {
      "cell_type": "markdown",
      "source": [
        "### <font color='#478bd6'>CNN ROC Curves</font>"
      ],
      "metadata": {
        "id": "vncnIHwGLGoR"
      }
    },
    {
      "cell_type": "code",
      "source": [
        "plot_roc(test_df.label_encoded,\n",
        "         cnn_test_probabilities,\n",
        "         figsize=(10, 10), title_fontsize='large');"
      ],
      "metadata": {
        "execution": {
          "iopub.status.busy": "2024-06-02T11:21:39.613631Z",
          "iopub.execute_input": "2024-06-02T11:21:39.614006Z",
          "iopub.status.idle": "2024-06-02T11:21:39.807287Z",
          "shell.execute_reply.started": "2024-06-02T11:21:39.613969Z",
          "shell.execute_reply": "2024-06-02T11:21:39.806357Z"
        },
        "trusted": true,
        "id": "qsrttdg4LGoS"
      },
      "execution_count": null,
      "outputs": []
    },
    {
      "cell_type": "markdown",
      "source": [
        "### <font color='#478bd6'>EfficientNet V2 B0 ROC Curves</font>"
      ],
      "metadata": {
        "id": "xcxGdfiJLGoS"
      }
    },
    {
      "cell_type": "code",
      "source": [
        "plot_roc(test_df.label_encoded,\n",
        "         efficientnet_v2_test_probabilities,\n",
        "         figsize=(10, 10), title_fontsize='large');"
      ],
      "metadata": {
        "execution": {
          "iopub.status.busy": "2024-06-02T11:21:39.80897Z",
          "iopub.execute_input": "2024-06-02T11:21:39.809352Z",
          "iopub.status.idle": "2024-06-02T11:21:40.066791Z",
          "shell.execute_reply.started": "2024-06-02T11:21:39.80931Z",
          "shell.execute_reply": "2024-06-02T11:21:40.06591Z"
        },
        "trusted": true,
        "id": "sPbwIP93LGoS"
      },
      "execution_count": null,
      "outputs": []
    },
    {
      "cell_type": "markdown",
      "source": [
        "### <font color='#478bd6'>ViT-b16 ROC Curves</font>"
      ],
      "metadata": {
        "id": "Hj9jsEynLGoS"
      }
    },
    {
      "cell_type": "code",
      "source": [
        "plot_roc(test_df.label_encoded,\n",
        "         vit_b16_test_probabilities,\n",
        "         figsize=(10, 10), title_fontsize='large');"
      ],
      "metadata": {
        "execution": {
          "iopub.status.busy": "2024-06-02T11:21:40.068089Z",
          "iopub.execute_input": "2024-06-02T11:21:40.068695Z",
          "iopub.status.idle": "2024-06-02T11:21:40.318132Z",
          "shell.execute_reply.started": "2024-06-02T11:21:40.068664Z",
          "shell.execute_reply": "2024-06-02T11:21:40.317179Z"
        },
        "trusted": true,
        "id": "VGZV47G-LGoS"
      },
      "execution_count": null,
      "outputs": []
    },
    {
      "cell_type": "markdown",
      "source": [
        "<a id='6.4'></a>\n",
        "### <font color='#478bd6'>View Classification Reports</font>"
      ],
      "metadata": {
        "id": "odCjjmQ4LGoT"
      }
    },
    {
      "cell_type": "code",
      "source": [
        "# CNN ROC Curves\n",
        "print(classification_report(test_df.label_encoded,\n",
        "                            cnn_test_predictions,\n",
        "                            target_names=class_names))"
      ],
      "metadata": {
        "execution": {
          "iopub.status.busy": "2024-06-02T11:21:40.319368Z",
          "iopub.execute_input": "2024-06-02T11:21:40.319682Z",
          "iopub.status.idle": "2024-06-02T11:21:40.330583Z",
          "shell.execute_reply.started": "2024-06-02T11:21:40.319654Z",
          "shell.execute_reply": "2024-06-02T11:21:40.329537Z"
        },
        "trusted": true,
        "id": "_5iN3t1KLGoT"
      },
      "execution_count": null,
      "outputs": []
    },
    {
      "cell_type": "code",
      "source": [
        "# EfficientNet V2 ROC Curves\n",
        "print(classification_report(test_df.label_encoded,\n",
        "                            efficientnet_v2_test_predictions,\n",
        "                            target_names=class_names))"
      ],
      "metadata": {
        "execution": {
          "iopub.status.busy": "2024-06-02T11:21:40.331933Z",
          "iopub.execute_input": "2024-06-02T11:21:40.332305Z",
          "iopub.status.idle": "2024-06-02T11:21:40.344332Z",
          "shell.execute_reply.started": "2024-06-02T11:21:40.33227Z",
          "shell.execute_reply": "2024-06-02T11:21:40.343255Z"
        },
        "trusted": true,
        "id": "oQyCO2kjLGoT"
      },
      "execution_count": null,
      "outputs": []
    },
    {
      "cell_type": "code",
      "source": [
        "# ViT-b16 ROC Curves\n",
        "print(classification_report(test_df.label_encoded,\n",
        "                            vit_b16_test_predictions,\n",
        "                            target_names=class_names))"
      ],
      "metadata": {
        "execution": {
          "iopub.status.busy": "2024-06-02T11:21:40.345602Z",
          "iopub.execute_input": "2024-06-02T11:21:40.345912Z",
          "iopub.status.idle": "2024-06-02T11:21:40.358609Z",
          "shell.execute_reply.started": "2024-06-02T11:21:40.345884Z",
          "shell.execute_reply": "2024-06-02T11:21:40.357607Z"
        },
        "trusted": true,
        "id": "uf994WzXLGoT"
      },
      "execution_count": null,
      "outputs": []
    },
    {
      "cell_type": "markdown",
      "source": [
        "<a id='6.5'></a>\n",
        "### <font color='#478bd6'>Record Classification Metrics</font>"
      ],
      "metadata": {
        "id": "iXcc-V20LGoT"
      }
    },
    {
      "cell_type": "code",
      "source": [
        "def generate_preformance_scores(y_true, y_pred, y_probabilities):\n",
        "\n",
        "    model_accuracy = accuracy_score(y_true, y_pred)\n",
        "    model_precision, model_recall, model_f1, _ = (\n",
        "        precision_recall_fscore_support(\n",
        "            y_true,\n",
        "            y_pred,\n",
        "            average=\"weighted\"\n",
        "        )\n",
        "    )\n",
        "    model_matthews_corrcoef = matthews_corrcoef(y_true, y_pred)\n",
        "\n",
        "    print('=============================================')\n",
        "    print(f'\\nPerformance Metrics:\\n')\n",
        "    print('=============================================')\n",
        "    print(f'accuracy_score:\\t\\t{model_accuracy:.4f}\\n')\n",
        "    print('_____________________________________________')\n",
        "    print(f'precision_score:\\t{model_precision:.4f}\\n')\n",
        "    print('_____________________________________________')\n",
        "    print(f'recall_score:\\t\\t{model_recall:.4f}\\n')\n",
        "    print('_____________________________________________')\n",
        "    print(f'f1_score:\\t\\t{model_f1:.4f}\\n')\n",
        "    print('_____________________________________________')\n",
        "    print(f'matthews_corrcoef:\\t{model_matthews_corrcoef:.4f}\\n')\n",
        "    print('=============================================')\n",
        "\n",
        "    preformance_scores = {\n",
        "        'accuracy_score': model_accuracy,\n",
        "        'precision_score': model_precision,\n",
        "        'recall_score': model_recall,\n",
        "        'f1_score': model_f1,\n",
        "        'matthews_corrcoef': model_matthews_corrcoef\n",
        "    }\n",
        "    return preformance_scores\n"
      ],
      "metadata": {
        "execution": {
          "iopub.status.busy": "2024-06-02T11:21:40.360091Z",
          "iopub.execute_input": "2024-06-02T11:21:40.360745Z",
          "iopub.status.idle": "2024-06-02T11:21:40.369447Z",
          "shell.execute_reply.started": "2024-06-02T11:21:40.360708Z",
          "shell.execute_reply": "2024-06-02T11:21:40.368383Z"
        },
        "trusted": true,
        "id": "NOCWYTWyLGoU"
      },
      "execution_count": null,
      "outputs": []
    },
    {
      "cell_type": "code",
      "source": [
        "# Generate CNN model performance scores\n",
        "cnn_performance = generate_preformance_scores(test_df.label_encoded,\n",
        "                                              cnn_test_predictions,\n",
        "                                              cnn_test_probabilities)"
      ],
      "metadata": {
        "execution": {
          "iopub.status.busy": "2024-06-02T11:21:40.370653Z",
          "iopub.execute_input": "2024-06-02T11:21:40.370982Z",
          "iopub.status.idle": "2024-06-02T11:21:40.380949Z",
          "shell.execute_reply.started": "2024-06-02T11:21:40.370955Z",
          "shell.execute_reply": "2024-06-02T11:21:40.379722Z"
        },
        "trusted": true,
        "id": "n-LID0IFLGoU"
      },
      "execution_count": null,
      "outputs": []
    },
    {
      "cell_type": "code",
      "source": [
        "# Generate EfficieNet model performance scores\n",
        "efficientnet_v2_performance = generate_preformance_scores(test_df.label_encoded,\n",
        "                                                          efficientnet_v2_test_predictions,\n",
        "                                                          efficientnet_v2_test_probabilities)"
      ],
      "metadata": {
        "execution": {
          "iopub.status.busy": "2024-06-02T11:21:40.382461Z",
          "iopub.execute_input": "2024-06-02T11:21:40.382937Z",
          "iopub.status.idle": "2024-06-02T11:21:40.391764Z",
          "shell.execute_reply.started": "2024-06-02T11:21:40.382896Z",
          "shell.execute_reply": "2024-06-02T11:21:40.390689Z"
        },
        "trusted": true,
        "id": "NhMjQtW4LGoU"
      },
      "execution_count": null,
      "outputs": []
    },
    {
      "cell_type": "code",
      "source": [
        "# Generate ViT model performance scores\n",
        "vit_b16_performance = generate_preformance_scores(test_df.label_encoded,\n",
        "                                                  vit_b16_test_predictions,\n",
        "                                                  vit_b16_test_probabilities)"
      ],
      "metadata": {
        "execution": {
          "iopub.status.busy": "2024-06-02T11:21:40.393245Z",
          "iopub.execute_input": "2024-06-02T11:21:40.3937Z",
          "iopub.status.idle": "2024-06-02T11:21:40.404045Z",
          "shell.execute_reply.started": "2024-06-02T11:21:40.393658Z",
          "shell.execute_reply": "2024-06-02T11:21:40.403107Z"
        },
        "trusted": true,
        "id": "U5QowgvoLGoV"
      },
      "execution_count": null,
      "outputs": []
    },
    {
      "cell_type": "code",
      "source": [
        "# Record metrics with DataFrame\n",
        "performance_df = pd.DataFrame({\n",
        "    'model_cnn': cnn_performance,\n",
        "    'model_efficientnet_v2': efficientnet_v2_performance,\n",
        "    'model_vit_b16': vit_b16_performance\n",
        "}).T\n",
        "\n",
        "# View Performance DataFrame\n",
        "performance_df"
      ],
      "metadata": {
        "execution": {
          "iopub.status.busy": "2024-06-02T11:21:40.405337Z",
          "iopub.execute_input": "2024-06-02T11:21:40.405716Z",
          "iopub.status.idle": "2024-06-02T11:21:40.421099Z",
          "shell.execute_reply.started": "2024-06-02T11:21:40.40568Z",
          "shell.execute_reply": "2024-06-02T11:21:40.420047Z"
        },
        "trusted": true,
        "id": "ZowZxihrLGoV"
      },
      "execution_count": null,
      "outputs": []
    },
    {
      "cell_type": "markdown",
      "source": [
        "<div class=\"alert alert-block alert-info\">\n",
        "    <h3>Observe</h3>\n",
        "    We observe that the EfficientNet model outperforms both the CNN and ViT model on all metrics, especially the Matthews Correlation Coefficient (MCC). A high MCC implies that the model's predictions are statistically of high quality and that the model does indeed generalise to unseen samples.\n",
        "</div>"
      ],
      "metadata": {
        "id": "n234MZ02LGoW"
      }
    },
    {
      "cell_type": "code",
      "source": [
        "performance_df.plot(\n",
        "    kind=\"bar\",\n",
        "    figsize=(16, 8)\n",
        ").legend(bbox_to_anchor=(1.0, 1.0))\n",
        "\n",
        "plt.title('Performance Metrics', fontsize=20);\n",
        "sns.despine();"
      ],
      "metadata": {
        "execution": {
          "iopub.status.busy": "2024-06-02T11:21:40.422405Z",
          "iopub.execute_input": "2024-06-02T11:21:40.422807Z",
          "iopub.status.idle": "2024-06-02T11:21:40.649061Z",
          "shell.execute_reply.started": "2024-06-02T11:21:40.422753Z",
          "shell.execute_reply": "2024-06-02T11:21:40.648132Z"
        },
        "trusted": true,
        "id": "1Z0qCiCiLGoW"
      },
      "execution_count": null,
      "outputs": []
    },
    {
      "cell_type": "markdown",
      "source": [],
      "metadata": {
        "id": "eUn4Ax_BLGoX"
      }
    },
    {
      "cell_type": "code",
      "source": [
        "def compute_inference_time(model, ds, sample_count, inference_runs=5):\n",
        "    total_inference_times = []\n",
        "    inference_rates = []\n",
        "\n",
        "    for _ in range(inference_runs):\n",
        "        start = time.perf_counter()\n",
        "        model.predict(ds)\n",
        "        end = time.perf_counter()\n",
        "\n",
        "        # Compute total inference time\n",
        "        total_inference_time = end - start\n",
        "\n",
        "        # Compute inference rate\n",
        "        inference_rate = total_inference_time / sample_count\n",
        "\n",
        "        total_inference_times.append(total_inference_time)\n",
        "        inference_rates.append(inference_rate)\n",
        "\n",
        "    # Calculate average total inference time with uncertainty\n",
        "    avg_inference_time = sum(total_inference_times) / len(total_inference_times)\n",
        "    avg_inference_time_uncertainty = (max(total_inference_times) - min(total_inference_times)) / 2\n",
        "\n",
        "    # Calculate average inference rate with uncertainty\n",
        "    avg_inference_rate = sum(inference_rates) / len(inference_rates)\n",
        "    avg_inference_rate_uncertainty = (max(inference_rates) - min(inference_rates)) / 2\n",
        "\n",
        "    print('====================================================')\n",
        "    print(f'Model:\\t\\t{model.name}\\n')\n",
        "    print(f'Inference Time:\\t{round(avg_inference_time, 6)}s \\xB1 {round(avg_inference_time_uncertainty, 6)}s')\n",
        "    print(f'Inference Rate:\\t{round(avg_inference_rate, 6)}s/sample \\xB1 {round(avg_inference_rate_uncertainty, 6)}s/sample')\n",
        "    print('====================================================')\n",
        "\n",
        "    return avg_inference_time, avg_inference_rate"
      ],
      "metadata": {
        "execution": {
          "iopub.status.busy": "2024-06-02T11:21:40.650577Z",
          "iopub.execute_input": "2024-06-02T11:21:40.650967Z",
          "iopub.status.idle": "2024-06-02T11:21:40.661126Z",
          "shell.execute_reply.started": "2024-06-02T11:21:40.650929Z",
          "shell.execute_reply": "2024-06-02T11:21:40.660061Z"
        },
        "trusted": true,
        "id": "fgycogPVLGoX"
      },
      "execution_count": null,
      "outputs": []
    },
    {
      "cell_type": "code",
      "source": [
        "cnn_inference = compute_inference_time(model_cnn, test_ds, len(test_df))"
      ],
      "metadata": {
        "execution": {
          "iopub.status.busy": "2024-06-02T11:21:40.662512Z",
          "iopub.execute_input": "2024-06-02T11:21:40.662875Z",
          "iopub.status.idle": "2024-06-02T11:21:46.53171Z",
          "shell.execute_reply.started": "2024-06-02T11:21:40.662838Z",
          "shell.execute_reply": "2024-06-02T11:21:46.530708Z"
        },
        "trusted": true,
        "id": "9qRBvL-JLGoX"
      },
      "execution_count": null,
      "outputs": []
    },
    {
      "cell_type": "code",
      "source": [
        "efficientnet_v2_inference = compute_inference_time(model_efficientnet_v2, test_ds, len(test_df))"
      ],
      "metadata": {
        "execution": {
          "iopub.status.busy": "2024-06-02T11:21:46.533302Z",
          "iopub.execute_input": "2024-06-02T11:21:46.534028Z",
          "iopub.status.idle": "2024-06-02T11:21:53.313016Z",
          "shell.execute_reply.started": "2024-06-02T11:21:46.533982Z",
          "shell.execute_reply": "2024-06-02T11:21:53.311972Z"
        },
        "trusted": true,
        "id": "t-7QYLwELGoY"
      },
      "execution_count": null,
      "outputs": []
    },
    {
      "cell_type": "code",
      "source": [
        "vit_b16_inference = compute_inference_time(model_vit_b16, test_ds, len(test_df))"
      ],
      "metadata": {
        "execution": {
          "iopub.status.busy": "2024-06-02T11:21:53.314485Z",
          "iopub.execute_input": "2024-06-02T11:21:53.314803Z",
          "iopub.status.idle": "2024-06-02T11:22:18.004862Z",
          "shell.execute_reply.started": "2024-06-02T11:21:53.314773Z",
          "shell.execute_reply": "2024-06-02T11:22:18.003827Z"
        },
        "trusted": true,
        "id": "aFgPuYDLLGoY"
      },
      "execution_count": null,
      "outputs": []
    },
    {
      "cell_type": "code",
      "source": [
        "# Get MCC for each model\n",
        "cnn_mcc = cnn_performance[\"matthews_corrcoef\"]\n",
        "efficientnet_mcc = efficientnet_v2_performance[\"matthews_corrcoef\"]\n",
        "vit_mcc = vit_b16_performance[\"matthews_corrcoef\"]\n",
        "\n",
        "# Scatter plot inference rate against MCC\n",
        "plt.figure(figsize=(16, 8))\n",
        "\n",
        "plt.scatter(cnn_inference[1], cnn_mcc, label=model_cnn.name)\n",
        "plt.scatter(efficientnet_v2_inference[1], efficientnet_mcc, label=model_efficientnet_v2.name)\n",
        "plt.scatter(vit_b16_inference[1], vit_mcc, label=model_vit_b16.name)\n",
        "\n",
        "ideal_inference_rate = 0.0001 # Desired inference time (Exaggerated)\n",
        "ideal_mcc = 1 # Max MCC\n",
        "\n",
        "# Plot lines connecting each model coords. to the ideal model coords.\n",
        "plt.scatter(ideal_inference_rate, ideal_mcc, label=\"Ideal Hypothetical Model\", marker='s')\n",
        "plt.plot([ideal_inference_rate, cnn_inference[1]], [ideal_mcc, cnn_mcc], ':')\n",
        "plt.plot([ideal_inference_rate, efficientnet_v2_inference[1]], [ideal_mcc, efficientnet_mcc], ':')\n",
        "plt.plot([ideal_inference_rate, vit_b16_inference[1]], [ideal_mcc, vit_mcc], ':')\n",
        "\n",
        "plt.legend()\n",
        "plt.title(\"Trade-Offs: Inference Rate vs. Matthews Correlation Coefficient\", fontsize=20)\n",
        "plt.xlabel(\"Inference Rate (s/sample)\", fontsize=16)\n",
        "plt.ylabel(\"Matthews Correlation Coefficient\", fontsize=16);\n",
        "\n",
        "sns.despine();"
      ],
      "metadata": {
        "execution": {
          "iopub.status.busy": "2024-06-02T11:22:18.006163Z",
          "iopub.execute_input": "2024-06-02T11:22:18.006533Z",
          "iopub.status.idle": "2024-06-02T11:22:18.347985Z",
          "shell.execute_reply.started": "2024-06-02T11:22:18.006504Z",
          "shell.execute_reply": "2024-06-02T11:22:18.347021Z"
        },
        "trusted": true,
        "id": "w-ZbUg44LGoY"
      },
      "execution_count": null,
      "outputs": []
    },
    {
      "cell_type": "code",
      "source": [
        "def dist(x1, x2, y1, y2):\n",
        "    return np.sqrt(np.square(x2 - x1) + np.square(y2 - y1))\n",
        "\n",
        "model_names = [model_cnn.name, model_efficientnet_v2.name, model_vit_b16.name]\n",
        "model_scores = [cnn_mcc, efficientnet_mcc, vit_mcc]\n",
        "model_rates = [cnn_inference[1], efficientnet_v2_inference[1], vit_b16_inference[1]]\n",
        "trade_offs = [dist(ideal_inference_rate, inference_rate, ideal_mcc, score)\n",
        "              for inference_rate, score in zip(model_rates, model_scores)]\n",
        "\n",
        "print('Trade-Off Score: Inference Rate vs. MCC')\n",
        "for name, inference_rate, score, trade in zip(model_names, model_rates, model_scores, trade_offs):\n",
        "    print('---------------------------------------------------------')\n",
        "    print(f'Model: {name}\\n\\nInference Rate: {inference_rate:.5f} | MCC: {score:.4f} | Trade-Off: {trade:.4f}')\n",
        "\n",
        "# View model with best trade-off score\n",
        "print('=========================================================')\n",
        "best_model_trade = min(trade_offs)\n",
        "best_model_name = model_names[np.argmin(trade_offs)]\n",
        "print(f'\\nBest Optimal Model:\\t{best_model_name}\\nTrade-Off:\\t\\t{best_model_trade:.4f}\\n')\n",
        "print('=========================================================')"
      ],
      "metadata": {
        "execution": {
          "iopub.status.busy": "2024-06-02T11:22:18.349378Z",
          "iopub.execute_input": "2024-06-02T11:22:18.349768Z",
          "iopub.status.idle": "2024-06-02T11:22:18.360731Z",
          "shell.execute_reply.started": "2024-06-02T11:22:18.349731Z",
          "shell.execute_reply": "2024-06-02T11:22:18.359766Z"
        },
        "trusted": true,
        "id": "wxOP_FLRLGoZ"
      },
      "execution_count": null,
      "outputs": []
    },
    {
      "cell_type": "markdown",
      "source": [
        "<a id='6.7'></a>\n",
        "### <font color='#478bd6'>View Test Predictions</font>"
      ],
      "metadata": {
        "id": "hLwRi1NfLGoZ"
      }
    },
    {
      "cell_type": "code",
      "source": [
        "test_df"
      ],
      "metadata": {
        "execution": {
          "iopub.status.busy": "2024-06-02T11:22:18.362008Z",
          "iopub.execute_input": "2024-06-02T11:22:18.362361Z",
          "iopub.status.idle": "2024-06-02T11:22:18.379055Z",
          "shell.execute_reply.started": "2024-06-02T11:22:18.362332Z",
          "shell.execute_reply": "2024-06-02T11:22:18.378161Z"
        },
        "trusted": true,
        "id": "w1yQT0otLGoZ"
      },
      "execution_count": null,
      "outputs": []
    },
    {
      "cell_type": "code",
      "source": [
        "def view_multiple_predictions(df, model, sample_loader, count=10, color_map='rgb', title=None, fig_size=(14, 10)):\n",
        "    rows = count//5\n",
        "    if count%5 > 0:\n",
        "        rows +=1\n",
        "\n",
        "    idx = random.sample(df.index.to_list(), count)\n",
        "\n",
        "    fig = plt.figure(figsize=fig_size)\n",
        "    if title != None:\n",
        "        fig.suptitle(title, fontsize=30)\n",
        "\n",
        "    fig.tight_layout()\n",
        "    fig.subplots_adjust(top=0.95)\n",
        "\n",
        "    # Setup useful dictionaries\n",
        "    label_set = {0: 'normal', 1: 'jerawat'}\n",
        "    color_set = {False: 'red', True: 'darkgreen'}\n",
        "\n",
        "    for column, _ in enumerate(idx):\n",
        "        # Predict label\n",
        "        img = sample_loader(df.image_path[_])\n",
        "        probability = np.squeeze(\n",
        "            model.predict(np.array([img]), verbose=0)\n",
        "        )\n",
        "        prediction = np.argmax(probability)\n",
        "\n",
        "        # Validate prediction correctness\n",
        "        correct_prediction = (prediction == df.label_encoded[_])\n",
        "\n",
        "        # Create subplot and assign title\n",
        "        ax = plt.subplot(rows, 5, column+1)\n",
        "        ax.set_title(\n",
        "            f'Actual Label: {df.label[_]}',\n",
        "            pad=20,\n",
        "            fontsize=14,\n",
        "            color=color_set[correct_prediction]\n",
        "        )\n",
        "\n",
        "        # Plot image\n",
        "        if color_map=='rgb':\n",
        "            ax.imshow(img)\n",
        "        else:\n",
        "            ax.imshow(tf.image.rgb_to_grayscale(img), cmap=color_map)\n",
        "\n",
        "        # Plot prediction  & probability\n",
        "        txt = f'Prediction: {label_set[prediction]}\\nProbability: {(100 * probability[prediction]):.2f}%'\n",
        "        plt.xlabel(txt, fontsize=14, color=color_set[correct_prediction])\n",
        "\n",
        "    return"
      ],
      "metadata": {
        "execution": {
          "iopub.status.busy": "2024-06-02T11:22:18.380139Z",
          "iopub.execute_input": "2024-06-02T11:22:18.38045Z",
          "iopub.status.idle": "2024-06-02T11:22:18.393726Z",
          "shell.execute_reply.started": "2024-06-02T11:22:18.380423Z",
          "shell.execute_reply": "2024-06-02T11:22:18.392872Z"
        },
        "trusted": true,
        "id": "ihRUKtlwLGoa"
      },
      "execution_count": null,
      "outputs": []
    },
    {
      "cell_type": "code",
      "source": [
        "# View CNN predictions\n",
        "view_multiple_predictions(\n",
        "    test_df,\n",
        "    model_cnn,\n",
        "    _load,\n",
        "    count=25,\n",
        "    color_map='inferno',\n",
        "    title='CNN Test Predictions',\n",
        "    fig_size=(20, 28)\n",
        ")"
      ],
      "metadata": {
        "execution": {
          "iopub.status.busy": "2024-06-02T11:22:18.394931Z",
          "iopub.execute_input": "2024-06-02T11:22:18.395322Z",
          "iopub.status.idle": "2024-06-02T11:22:23.145138Z",
          "shell.execute_reply.started": "2024-06-02T11:22:18.395293Z",
          "shell.execute_reply": "2024-06-02T11:22:23.143913Z"
        },
        "trusted": true,
        "id": "G3oI22NkLGoa"
      },
      "execution_count": null,
      "outputs": []
    },
    {
      "cell_type": "code",
      "source": [
        "# Simpan model dalam format H5\n",
        "model_cnn.save('model_cnn.h5')"
      ],
      "metadata": {
        "execution": {
          "iopub.status.busy": "2024-06-02T11:22:23.146454Z",
          "iopub.execute_input": "2024-06-02T11:22:23.146781Z",
          "iopub.status.idle": "2024-06-02T11:22:23.227031Z",
          "shell.execute_reply.started": "2024-06-02T11:22:23.146752Z",
          "shell.execute_reply": "2024-06-02T11:22:23.226179Z"
        },
        "trusted": true,
        "id": "1AWqPUheLGob"
      },
      "execution_count": null,
      "outputs": []
    },
    {
      "cell_type": "code",
      "source": [
        "import tensorflow as tf\n",
        "\n",
        "# Muat model\n",
        "model = tf.keras.models.load_model('model_cnn.h5')\n"
      ],
      "metadata": {
        "execution": {
          "iopub.status.busy": "2024-06-02T11:22:23.228304Z",
          "iopub.execute_input": "2024-06-02T11:22:23.228607Z",
          "iopub.status.idle": "2024-06-02T11:22:23.371484Z",
          "shell.execute_reply.started": "2024-06-02T11:22:23.228578Z",
          "shell.execute_reply": "2024-06-02T11:22:23.370433Z"
        },
        "trusted": true,
        "id": "ckBYZdz0LGob"
      },
      "execution_count": null,
      "outputs": []
    },
    {
      "cell_type": "code",
      "source": [
        "# Buat converter\n",
        "converter = tf.lite.TFLiteConverter.from_keras_model(model)\n",
        "\n",
        "# Konversi model ke format TFLite\n",
        "tflite_model = converter.convert()\n",
        "\n",
        "# Simpan model TFLite\n",
        "with open('model_cnn.tflite', 'wb') as f:\n",
        "    f.write(tflite_model)\n"
      ],
      "metadata": {
        "execution": {
          "iopub.status.busy": "2024-06-02T11:22:23.372846Z",
          "iopub.execute_input": "2024-06-02T11:22:23.37325Z",
          "iopub.status.idle": "2024-06-02T11:22:25.712803Z",
          "shell.execute_reply.started": "2024-06-02T11:22:23.373187Z",
          "shell.execute_reply": "2024-06-02T11:22:25.711619Z"
        },
        "trusted": true,
        "id": "lVGgUsTZLGob"
      },
      "execution_count": null,
      "outputs": []
    },
    {
      "cell_type": "code",
      "source": [
        "import tensorflow as tf\n",
        "\n",
        "# Load the TFLite model\n",
        "interpreter = tf.lite.Interpreter(model_path='model_cnn.tflite')\n",
        "interpreter.allocate_tensors()\n",
        "\n",
        "# Get input and output tensors\n",
        "input_details = interpreter.get_input_details()\n",
        "output_details = interpreter.get_output_details()\n"
      ],
      "metadata": {
        "execution": {
          "iopub.status.busy": "2024-06-02T11:22:25.714333Z",
          "iopub.execute_input": "2024-06-02T11:22:25.714786Z",
          "iopub.status.idle": "2024-06-02T11:22:25.741258Z",
          "shell.execute_reply.started": "2024-06-02T11:22:25.714726Z",
          "shell.execute_reply": "2024-06-02T11:22:25.740172Z"
        },
        "trusted": true,
        "id": "wW17KSjpLGoc"
      },
      "execution_count": null,
      "outputs": []
    },
    {
      "cell_type": "code",
      "source": [
        "import matplotlib.pyplot as plt\n",
        "import numpy as np\n",
        "import random\n",
        "\n",
        "def view_multiple_predictions(df, interpreter, sample_loader, count=10, color_map='rgb', title=None, fig_size=(14, 10)):\n",
        "    rows = count // 5\n",
        "    if count % 5 > 0:\n",
        "        rows += 1\n",
        "\n",
        "    idx = random.sample(df.index.to_list(), count)\n",
        "\n",
        "    fig = plt.figure(figsize=fig_size)\n",
        "    if title is not None:\n",
        "        fig.suptitle(title, fontsize=30)\n",
        "\n",
        "    fig.tight_layout()\n",
        "    fig.subplots_adjust(top=0.95)\n",
        "\n",
        "    # Setup useful dictionaries\n",
        "    label_set = {0: 'normal', 1: 'jerawat'}\n",
        "    color_set = {False: 'red', True: 'darkgreen'}\n",
        "\n",
        "    for column, _ in enumerate(idx):\n",
        "        # Predict label\n",
        "        img = sample_loader(df.image_path[_])\n",
        "        input_data = np.expand_dims(img, axis=0).astype(np.float32)\n",
        "\n",
        "        interpreter.set_tensor(input_details[0]['index'], input_data)\n",
        "        interpreter.invoke()\n",
        "        probability = interpreter.get_tensor(output_details[0]['index'])\n",
        "        prediction = np.argmax(probability)\n",
        "\n",
        "        # Validate prediction correctness\n",
        "        correct_prediction = (prediction == df.label_encoded[_])\n",
        "\n",
        "        # Create subplot and assign title\n",
        "        ax = plt.subplot(rows, 5, column + 1)\n",
        "        ax.set_title(\n",
        "            f'Actual Label: {df.label[_]}',\n",
        "            pad=20,\n",
        "            fontsize=14,\n",
        "            color=color_set[correct_prediction]\n",
        "        )\n",
        "\n",
        "        # Plot image\n",
        "        if color_map == 'rgb':\n",
        "            ax.imshow(img)\n",
        "        else:\n",
        "            ax.imshow(tf.image.rgb_to_grayscale(img), cmap=color_map)\n",
        "\n",
        "        # Plot prediction & probability\n",
        "        txt = f'Prediction: {label_set[prediction]}\\nProbability: {(100 * probability[0][prediction]):.2f}%'\n",
        "        plt.xlabel(txt, fontsize=14, color=color_set[correct_prediction])\n",
        "\n",
        "    plt.show()\n"
      ],
      "metadata": {
        "execution": {
          "iopub.status.busy": "2024-06-02T11:22:25.742619Z",
          "iopub.execute_input": "2024-06-02T11:22:25.742992Z",
          "iopub.status.idle": "2024-06-02T11:22:25.758071Z",
          "shell.execute_reply.started": "2024-06-02T11:22:25.742957Z",
          "shell.execute_reply": "2024-06-02T11:22:25.756993Z"
        },
        "trusted": true,
        "id": "DWgyuIB6LGoc"
      },
      "execution_count": null,
      "outputs": []
    },
    {
      "cell_type": "code",
      "source": [
        "# Contoh fungsi untuk memuat dan memproses gambar\n",
        "def sample_loader(image_path):\n",
        "    img = tf.keras.preprocessing.image.load_img(image_path, target_size=(224, 224))\n",
        "    img = tf.keras.preprocessing.image.img_to_array(img)\n",
        "    img = img / 255.0  # Normalisasi jika diperlukan\n",
        "    return img\n",
        "\n",
        "# Panggil fungsi untuk melihat prediksi pada dataset uji tanpa colormap inferno\n",
        "view_multiple_predictions(\n",
        "    test_df,         # DataFrame dataset uji\n",
        "    interpreter,     # TFLite Interpreter\n",
        "    sample_loader,   # Fungsi untuk memuat gambar\n",
        "    count=25,\n",
        "    color_map='rgb',  # Default color map atau bisa diganti dengan 'grayscale'\n",
        "    title='CNN Test Predictions',\n",
        "    fig_size=(20, 28)\n",
        ")\n"
      ],
      "metadata": {
        "execution": {
          "iopub.status.busy": "2024-06-02T11:22:25.759346Z",
          "iopub.execute_input": "2024-06-02T11:22:25.760004Z",
          "iopub.status.idle": "2024-06-02T11:22:29.806483Z",
          "shell.execute_reply.started": "2024-06-02T11:22:25.759976Z",
          "shell.execute_reply": "2024-06-02T11:22:29.805089Z"
        },
        "trusted": true,
        "id": "mnpmU0tOLGod"
      },
      "execution_count": null,
      "outputs": []
    },
    {
      "cell_type": "code",
      "source": [
        "# View EfficientNet V2 predictions\n",
        "view_multiple_predictions(\n",
        "    test_df,\n",
        "    model_efficientnet_v2,\n",
        "    _load,\n",
        "    count=25,\n",
        "    color_map='inferno',\n",
        "    title='EfficientNet V2 Test Predictions',\n",
        "    fig_size=(20, 28)\n",
        ")"
      ],
      "metadata": {
        "execution": {
          "iopub.status.busy": "2024-06-02T11:22:29.807913Z",
          "iopub.execute_input": "2024-06-02T11:22:29.808471Z",
          "iopub.status.idle": "2024-06-02T11:22:30.215165Z",
          "shell.execute_reply.started": "2024-06-02T11:22:29.808434Z",
          "shell.execute_reply": "2024-06-02T11:22:30.213653Z"
        },
        "trusted": true,
        "id": "iuBnKWIcLGod"
      },
      "execution_count": null,
      "outputs": []
    },
    {
      "cell_type": "code",
      "source": [
        "# View Vision Transformer predictions\n",
        "view_multiple_predictions(\n",
        "    test_df,\n",
        "    model_vit_b16,\n",
        "    _load,\n",
        "    count=25,\n",
        "    color_map='inferno',\n",
        "    title='ViT Test Predictions',\n",
        "    fig_size=(20, 28)\n",
        ")"
      ],
      "metadata": {
        "execution": {
          "iopub.status.busy": "2024-06-02T11:22:30.216097Z",
          "iopub.status.idle": "2024-06-02T11:22:30.216516Z",
          "shell.execute_reply.started": "2024-06-02T11:22:30.216316Z",
          "shell.execute_reply": "2024-06-02T11:22:30.216335Z"
        },
        "trusted": true,
        "id": "ofiXOSqELGod"
      },
      "execution_count": null,
      "outputs": []
    },
    {
      "cell_type": "markdown",
      "source": [],
      "metadata": {
        "id": "eKsuO6rdLGoe"
      }
    },
    {
      "cell_type": "markdown",
      "source": [],
      "metadata": {
        "id": "p_mObSz6LGoe"
      }
    }
  ]
}